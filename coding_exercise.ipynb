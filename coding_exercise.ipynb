{
  "nbformat": 4,
  "nbformat_minor": 5,
  "metadata": {
    "kernelspec": {
      "display_name": "Python 3",
      "language": "python",
      "name": "python3"
    },
    "language_info": {
      "codemirror_mode": {
        "name": "ipython",
        "version": 3
      },
      "file_extension": ".py",
      "mimetype": "text/x-python",
      "name": "python",
      "nbconvert_exporter": "python",
      "pygments_lexer": "ipython3",
      "version": "3.7.7"
    },
    "colab": {
      "name": "coding_exercise.ipynb",
      "provenance": [],
      "collapsed_sections": [],
      "include_colab_link": true
    }
  },
  "cells": [
    {
      "cell_type": "markdown",
      "metadata": {
        "id": "view-in-github",
        "colab_type": "text"
      },
      "source": [
        "<a href=\"https://colab.research.google.com/github/Rakib-Ul-Haque/Crime_and_market_data_analysis/blob/main/coding_exercise.ipynb\" target=\"_parent\"><img src=\"https://colab.research.google.com/assets/colab-badge.svg\" alt=\"Open In Colab\"/></a>"
      ]
    },
    {
      "cell_type": "markdown",
      "metadata": {
        "id": "covered-suffering"
      },
      "source": [
        "# Introduction\n",
        "\n",
        "Thank you for applying to Double River! This is a coding assessment you can use to showcase your programming skills. We expect you to have this completed and submitted by the night of Saturday July 17th (any time zone).\n",
        "\n",
        "This coding assessment has 2 parts. It is very open-ended, and there is not a single correct response. There are many possible approaches; choose one or two rather than attacking the problem every possible way. We do not expect you to take more than 3-4 hours at maximum. You will be assessed on your creativity and the clarity with which you explain the steps you take. Please document your data exploration and modeling process. We expect you to use Python. Feel free to use any open source packages you desire.\n",
        "\n",
        "Your submission should consist of a zipped directory named lastname_firstname.zip (with your own last name and first name substituted) containing \n",
        "1. coding_exercise.ipynb, containing your code and relevant figures. Feel free to just modify this file you are reading\n",
        "2. crime_pred.csv, containing your predictions for Part 1\n",
        "3. market1_pred.csv, containing half your predictions for Part 2\n",
        "4. market2_pred.csv, containing the other half of your predictions for Part 2\n",
        "5. Any other relevant scripts you wrote to solve the problem\n",
        "\n",
        "The required format for 2-4 will be explained below.\n",
        "\n",
        "To submit, email your zipped folder to robertwagner@doubleriver.com and taylorsorensen@doubleriver.com by the night of Saturday July 17th (any time zone). If you need an extension, please let us know. If you have any questions, please reach out to us. Good luck!"
      ],
      "id": "covered-suffering"
    },
    {
      "cell_type": "markdown",
      "metadata": {
        "id": "light-knowing"
      },
      "source": [
        "# Part 1\n",
        "\n",
        "crime_2020.csv and crime_2021.csv contain real data on crime in Boston. Predict the number of vandalism incidents and the number of verbal disputes (OFFENSE_DESCRIPTION==\"VANDALISM\" or OFFENSE_DESCRIPTION==\"VERBAL DISPUTE\") for each day from July 9, 2021 to December 31, 2021. Save your predictions to a csv named crime_pred.csv, with the following format:\n",
        "\n",
        "| Date | VANDALISM | VERBAL DISPUTE |\n",
        "| --- | --- | --- |\n",
        "| 2021-07-09 | prediction | prediction |\n",
        "| --- | --- | --- |\n",
        "\n",
        "Obviously, we can't assess your actual prediction accuracy. We will focus on your modeling decisions."
      ],
      "id": "light-knowing"
    },
    {
      "cell_type": "code",
      "metadata": {
        "id": "WzqJTmidI321"
      },
      "source": [
        "#import libraries\n",
        "import numpy as np\n",
        "import pandas as pd\n",
        "from datetime import datetime\n",
        "import matplotlib.pylab as plt\n",
        "%matplotlib inline\n",
        "from matplotlib.pylab import rcParams\n",
        "rcParams['figure.figsize']=12,6"
      ],
      "id": "WzqJTmidI321",
      "execution_count": 1,
      "outputs": []
    },
    {
      "cell_type": "code",
      "metadata": {
        "colab": {
          "base_uri": "https://localhost:8080/"
        },
        "id": "nP48YRBAVi8b",
        "outputId": "194771f0-89a9-495a-d2ff-262ef0b43b05"
      },
      "source": [
        "# taking input for 2020\n",
        "crime_2020 = pd.read_csv(\"crime_2020.csv\")\n",
        "crime_2020 = crime_2020[(crime_2020['OFFENSE_DESCRIPTION']==\"VANDALISM\") | (crime_2020['OFFENSE_DESCRIPTION']==\"VERBAL DISPUTE\")]\n",
        "crime_2020.reset_index(drop=True, inplace=True)\n",
        "# crime_2020.head()"
      ],
      "id": "nP48YRBAVi8b",
      "execution_count": 2,
      "outputs": [
        {
          "output_type": "stream",
          "text": [
            "/usr/local/lib/python3.7/dist-packages/IPython/core/interactiveshell.py:2718: DtypeWarning: Columns (0) have mixed types.Specify dtype option on import or set low_memory=False.\n",
            "  interactivity=interactivity, compiler=compiler, result=result)\n"
          ],
          "name": "stderr"
        }
      ]
    },
    {
      "cell_type": "code",
      "metadata": {
        "colab": {
          "base_uri": "https://localhost:8080/"
        },
        "id": "Ygpl4UD8I5my",
        "outputId": "0d4ced7c-9076-44c8-e644-4b9171d9d413"
      },
      "source": [
        "# Preparing data for 2020\n",
        "crime_2020_u= crime_2020[[\"OFFENSE_DESCRIPTION\",\"OCCURRED_ON_DATE\"]]\n",
        "crime_2020_u[\"OCCURRED_ON_DATE\"]=pd.to_datetime(crime_2020_u[\"OCCURRED_ON_DATE\"]).dt.date"
      ],
      "id": "Ygpl4UD8I5my",
      "execution_count": 3,
      "outputs": [
        {
          "output_type": "stream",
          "text": [
            "/usr/local/lib/python3.7/dist-packages/ipykernel_launcher.py:3: SettingWithCopyWarning: \n",
            "A value is trying to be set on a copy of a slice from a DataFrame.\n",
            "Try using .loc[row_indexer,col_indexer] = value instead\n",
            "\n",
            "See the caveats in the documentation: https://pandas.pydata.org/pandas-docs/stable/user_guide/indexing.html#returning-a-view-versus-a-copy\n",
            "  This is separate from the ipykernel package so we can avoid doing imports until\n"
          ],
          "name": "stderr"
        }
      ]
    },
    {
      "cell_type": "code",
      "metadata": {
        "colab": {
          "base_uri": "https://localhost:8080/"
        },
        "id": "kEZjifH5R6at",
        "outputId": "e08b5294-0d91-4b91-d2e3-cca120f58992"
      },
      "source": [
        "#taking input for 2021\n",
        "crime_2021 = pd.read_csv(\"crime_2021.csv\")\n",
        "crime_2021 = crime_2021[(crime_2021['OFFENSE_DESCRIPTION']==\"VANDALISM\") | (crime_2021['OFFENSE_DESCRIPTION']==\"VERBAL DISPUTE\")]\n",
        "crime_2021.reset_index(drop=True, inplace=True)\n",
        "# crime_2021.tail()"
      ],
      "id": "kEZjifH5R6at",
      "execution_count": 4,
      "outputs": [
        {
          "output_type": "stream",
          "text": [
            "/usr/local/lib/python3.7/dist-packages/IPython/core/interactiveshell.py:2718: DtypeWarning: Columns (0) have mixed types.Specify dtype option on import or set low_memory=False.\n",
            "  interactivity=interactivity, compiler=compiler, result=result)\n"
          ],
          "name": "stderr"
        }
      ]
    },
    {
      "cell_type": "code",
      "metadata": {
        "colab": {
          "base_uri": "https://localhost:8080/"
        },
        "id": "bFECFZHfJMbU",
        "outputId": "50bb871d-984a-4846-a168-f2bd96941033"
      },
      "source": [
        "# Preparing data for 2021\n",
        "crime_2021_u= crime_2021[[\"OFFENSE_DESCRIPTION\",\"OCCURRED_ON_DATE\"]]\n",
        "crime_2021_u[\"OCCURRED_ON_DATE\"]=pd.to_datetime(crime_2021_u[\"OCCURRED_ON_DATE\"]).dt.date\n"
      ],
      "id": "bFECFZHfJMbU",
      "execution_count": 5,
      "outputs": [
        {
          "output_type": "stream",
          "text": [
            "/usr/local/lib/python3.7/dist-packages/ipykernel_launcher.py:3: SettingWithCopyWarning: \n",
            "A value is trying to be set on a copy of a slice from a DataFrame.\n",
            "Try using .loc[row_indexer,col_indexer] = value instead\n",
            "\n",
            "See the caveats in the documentation: https://pandas.pydata.org/pandas-docs/stable/user_guide/indexing.html#returning-a-view-versus-a-copy\n",
            "  This is separate from the ipykernel package so we can avoid doing imports until\n"
          ],
          "name": "stderr"
        }
      ]
    },
    {
      "cell_type": "code",
      "metadata": {
        "id": "RIbqrG1ZAVFx"
      },
      "source": [
        "# joining 2020 and 2021 datsets then seperating crimes\n",
        "full_data = pd.concat([crime_2020_u, crime_2021_u])\n",
        "full_data_VANDALISM = full_data[(full_data['OFFENSE_DESCRIPTION']==\"VANDALISM\")]\n",
        "full_data_VERBAL_DISPUTE = full_data[(full_data['OFFENSE_DESCRIPTION']==\"VERBAL DISPUTE\")]"
      ],
      "id": "RIbqrG1ZAVFx",
      "execution_count": 6,
      "outputs": []
    },
    {
      "cell_type": "code",
      "metadata": {
        "id": "oZZnkKyuJifM"
      },
      "source": [
        "# Counting number of VANDALISM and convering into dictonaries \n",
        "VANDALISM_count=full_data_VANDALISM['OCCURRED_ON_DATE'].value_counts()\n",
        "# VANDALISM_count\n",
        "VANDALISM_count_dic=VANDALISM_count.to_dict()\n",
        "# VANDALISM_count_dic"
      ],
      "id": "oZZnkKyuJifM",
      "execution_count": 7,
      "outputs": []
    },
    {
      "cell_type": "code",
      "metadata": {
        "colab": {
          "base_uri": "https://localhost:8080/",
          "height": 419
        },
        "id": "GhP3EWMQPfiq",
        "outputId": "1e252953-c2d8-4937-8040-15b073907d5d"
      },
      "source": [
        "# Mapping data set for VANDALISM\n",
        "rng_VANDALISM = pd.date_range('2020-01-1', periods=555, freq='D')\n",
        "df_VANDALISM = pd.DataFrame({ 'Date': rng_VANDALISM, 'Counts' : rng_VANDALISM}) \n",
        "\n",
        "# print (df)\n",
        "df_VANDALISM[\"Counts\"]=df_VANDALISM[\"Counts\"].map(VANDALISM_count_dic)\n",
        "df_VANDALISM=df_VANDALISM.fillna(0)\n",
        "df_VANDALISM"
      ],
      "id": "GhP3EWMQPfiq",
      "execution_count": 8,
      "outputs": [
        {
          "output_type": "execute_result",
          "data": {
            "text/html": [
              "<div>\n",
              "<style scoped>\n",
              "    .dataframe tbody tr th:only-of-type {\n",
              "        vertical-align: middle;\n",
              "    }\n",
              "\n",
              "    .dataframe tbody tr th {\n",
              "        vertical-align: top;\n",
              "    }\n",
              "\n",
              "    .dataframe thead th {\n",
              "        text-align: right;\n",
              "    }\n",
              "</style>\n",
              "<table border=\"1\" class=\"dataframe\">\n",
              "  <thead>\n",
              "    <tr style=\"text-align: right;\">\n",
              "      <th></th>\n",
              "      <th>Date</th>\n",
              "      <th>Counts</th>\n",
              "    </tr>\n",
              "  </thead>\n",
              "  <tbody>\n",
              "    <tr>\n",
              "      <th>0</th>\n",
              "      <td>2020-01-01</td>\n",
              "      <td>10.0</td>\n",
              "    </tr>\n",
              "    <tr>\n",
              "      <th>1</th>\n",
              "      <td>2020-01-02</td>\n",
              "      <td>10.0</td>\n",
              "    </tr>\n",
              "    <tr>\n",
              "      <th>2</th>\n",
              "      <td>2020-01-03</td>\n",
              "      <td>5.0</td>\n",
              "    </tr>\n",
              "    <tr>\n",
              "      <th>3</th>\n",
              "      <td>2020-01-04</td>\n",
              "      <td>10.0</td>\n",
              "    </tr>\n",
              "    <tr>\n",
              "      <th>4</th>\n",
              "      <td>2020-01-05</td>\n",
              "      <td>7.0</td>\n",
              "    </tr>\n",
              "    <tr>\n",
              "      <th>...</th>\n",
              "      <td>...</td>\n",
              "      <td>...</td>\n",
              "    </tr>\n",
              "    <tr>\n",
              "      <th>550</th>\n",
              "      <td>2021-07-04</td>\n",
              "      <td>13.0</td>\n",
              "    </tr>\n",
              "    <tr>\n",
              "      <th>551</th>\n",
              "      <td>2021-07-05</td>\n",
              "      <td>15.0</td>\n",
              "    </tr>\n",
              "    <tr>\n",
              "      <th>552</th>\n",
              "      <td>2021-07-06</td>\n",
              "      <td>5.0</td>\n",
              "    </tr>\n",
              "    <tr>\n",
              "      <th>553</th>\n",
              "      <td>2021-07-07</td>\n",
              "      <td>4.0</td>\n",
              "    </tr>\n",
              "    <tr>\n",
              "      <th>554</th>\n",
              "      <td>2021-07-08</td>\n",
              "      <td>0.0</td>\n",
              "    </tr>\n",
              "  </tbody>\n",
              "</table>\n",
              "<p>555 rows × 2 columns</p>\n",
              "</div>"
            ],
            "text/plain": [
              "          Date  Counts\n",
              "0   2020-01-01    10.0\n",
              "1   2020-01-02    10.0\n",
              "2   2020-01-03     5.0\n",
              "3   2020-01-04    10.0\n",
              "4   2020-01-05     7.0\n",
              "..         ...     ...\n",
              "550 2021-07-04    13.0\n",
              "551 2021-07-05    15.0\n",
              "552 2021-07-06     5.0\n",
              "553 2021-07-07     4.0\n",
              "554 2021-07-08     0.0\n",
              "\n",
              "[555 rows x 2 columns]"
            ]
          },
          "metadata": {
            "tags": []
          },
          "execution_count": 8
        }
      ]
    },
    {
      "cell_type": "code",
      "metadata": {
        "id": "s30xhpwnPfbp"
      },
      "source": [
        "# Counting number of VERBAL_DISPUTE and convering into dictionaries\n",
        "VERBAL_DISPUTE_count=full_data_VERBAL_DISPUTE['OCCURRED_ON_DATE'].value_counts()\n",
        "# VERBAL_DISPUTE_count\n",
        "VERBAL_DISPUTE_count_dic=VERBAL_DISPUTE_count.to_dict()\n",
        "# VERBAL_DISPUTE_count_dic"
      ],
      "id": "s30xhpwnPfbp",
      "execution_count": 9,
      "outputs": []
    },
    {
      "cell_type": "code",
      "metadata": {
        "id": "O_i9fdfnPfNN",
        "colab": {
          "base_uri": "https://localhost:8080/",
          "height": 419
        },
        "outputId": "531663f1-c8e3-4933-f1f4-4bebec44fcf8"
      },
      "source": [
        "# Mapping data set for VERBAL_DISPUTE\n",
        "rng_VERBAL_DISPUTE = pd.date_range('2020-01-1', periods=555, freq='D')\n",
        "df_VERBAL_DISPUTE = pd.DataFrame({ 'Date': rng_VERBAL_DISPUTE, 'Counts' : rng_VERBAL_DISPUTE}) \n",
        "\n",
        "# print (df)\n",
        "df_VERBAL_DISPUTE[\"Counts\"]=df_VERBAL_DISPUTE[\"Counts\"].map(VERBAL_DISPUTE_count_dic)\n",
        "df_VERBAL_DISPUTE=df_VERBAL_DISPUTE.fillna(0)\n",
        "df_VERBAL_DISPUTE"
      ],
      "id": "O_i9fdfnPfNN",
      "execution_count": 10,
      "outputs": [
        {
          "output_type": "execute_result",
          "data": {
            "text/html": [
              "<div>\n",
              "<style scoped>\n",
              "    .dataframe tbody tr th:only-of-type {\n",
              "        vertical-align: middle;\n",
              "    }\n",
              "\n",
              "    .dataframe tbody tr th {\n",
              "        vertical-align: top;\n",
              "    }\n",
              "\n",
              "    .dataframe thead th {\n",
              "        text-align: right;\n",
              "    }\n",
              "</style>\n",
              "<table border=\"1\" class=\"dataframe\">\n",
              "  <thead>\n",
              "    <tr style=\"text-align: right;\">\n",
              "      <th></th>\n",
              "      <th>Date</th>\n",
              "      <th>Counts</th>\n",
              "    </tr>\n",
              "  </thead>\n",
              "  <tbody>\n",
              "    <tr>\n",
              "      <th>0</th>\n",
              "      <td>2020-01-01</td>\n",
              "      <td>6.0</td>\n",
              "    </tr>\n",
              "    <tr>\n",
              "      <th>1</th>\n",
              "      <td>2020-01-02</td>\n",
              "      <td>5.0</td>\n",
              "    </tr>\n",
              "    <tr>\n",
              "      <th>2</th>\n",
              "      <td>2020-01-03</td>\n",
              "      <td>2.0</td>\n",
              "    </tr>\n",
              "    <tr>\n",
              "      <th>3</th>\n",
              "      <td>2020-01-04</td>\n",
              "      <td>3.0</td>\n",
              "    </tr>\n",
              "    <tr>\n",
              "      <th>4</th>\n",
              "      <td>2020-01-05</td>\n",
              "      <td>1.0</td>\n",
              "    </tr>\n",
              "    <tr>\n",
              "      <th>...</th>\n",
              "      <td>...</td>\n",
              "      <td>...</td>\n",
              "    </tr>\n",
              "    <tr>\n",
              "      <th>550</th>\n",
              "      <td>2021-07-04</td>\n",
              "      <td>3.0</td>\n",
              "    </tr>\n",
              "    <tr>\n",
              "      <th>551</th>\n",
              "      <td>2021-07-05</td>\n",
              "      <td>9.0</td>\n",
              "    </tr>\n",
              "    <tr>\n",
              "      <th>552</th>\n",
              "      <td>2021-07-06</td>\n",
              "      <td>5.0</td>\n",
              "    </tr>\n",
              "    <tr>\n",
              "      <th>553</th>\n",
              "      <td>2021-07-07</td>\n",
              "      <td>5.0</td>\n",
              "    </tr>\n",
              "    <tr>\n",
              "      <th>554</th>\n",
              "      <td>2021-07-08</td>\n",
              "      <td>0.0</td>\n",
              "    </tr>\n",
              "  </tbody>\n",
              "</table>\n",
              "<p>555 rows × 2 columns</p>\n",
              "</div>"
            ],
            "text/plain": [
              "          Date  Counts\n",
              "0   2020-01-01     6.0\n",
              "1   2020-01-02     5.0\n",
              "2   2020-01-03     2.0\n",
              "3   2020-01-04     3.0\n",
              "4   2020-01-05     1.0\n",
              "..         ...     ...\n",
              "550 2021-07-04     3.0\n",
              "551 2021-07-05     9.0\n",
              "552 2021-07-06     5.0\n",
              "553 2021-07-07     5.0\n",
              "554 2021-07-08     0.0\n",
              "\n",
              "[555 rows x 2 columns]"
            ]
          },
          "metadata": {
            "tags": []
          },
          "execution_count": 10
        }
      ]
    },
    {
      "cell_type": "code",
      "metadata": {
        "id": "8NdYsTBKqDXU"
      },
      "source": [
        "# df_VERBAL_DISPUTE.info()\n",
        "# df_VANDALISM.info()"
      ],
      "id": "8NdYsTBKqDXU",
      "execution_count": 11,
      "outputs": []
    },
    {
      "cell_type": "code",
      "metadata": {
        "id": "GrKyXCjtKfp7"
      },
      "source": [
        "#changing index for both datasets\n",
        "indexed_VANDALISM=df_VANDALISM.set_index(['Date'])\n",
        "indexed_VERBAL_DISPUTE=df_VERBAL_DISPUTE.set_index(['Date'])"
      ],
      "id": "GrKyXCjtKfp7",
      "execution_count": 12,
      "outputs": []
    },
    {
      "cell_type": "code",
      "metadata": {
        "id": "mNSbVn6LLDOR"
      },
      "source": [
        "# indexed_VANDALISM\n",
        "# indexed_VERBAL_DISPUTE"
      ],
      "id": "mNSbVn6LLDOR",
      "execution_count": 13,
      "outputs": []
    },
    {
      "cell_type": "code",
      "metadata": {
        "colab": {
          "base_uri": "https://localhost:8080/",
          "height": 291
        },
        "id": "0kl09MRzrUIA",
        "outputId": "f20973ab-7b9e-4dad-b066-f15f24008de5"
      },
      "source": [
        "indexed_VANDALISM.plot()\n",
        "plt.show()"
      ],
      "id": "0kl09MRzrUIA",
      "execution_count": 14,
      "outputs": [
        {
          "output_type": "display_data",
          "data": {
            "image/png": "[encoded data removed]",
            "text/plain": [
              "<Figure size 432x288 with 1 Axes>"
            ]
          },
          "metadata": {
            "tags": [],
            "needs_background": "light"
          }
        }
      ]
    },
    {
      "cell_type": "code",
      "metadata": {
        "colab": {
          "base_uri": "https://localhost:8080/",
          "height": 291
        },
        "id": "EJ--0HPQrUEu",
        "outputId": "204731c1-43e9-4db4-f5db-cad6f1ee1678"
      },
      "source": [
        "indexed_VERBAL_DISPUTE.plot()\n",
        "plt.show()"
      ],
      "id": "EJ--0HPQrUEu",
      "execution_count": 15,
      "outputs": [
        {
          "output_type": "display_data",
          "data": {
            "image/png": "[encoded data removed]",
            "text/plain": [
              "<Figure size 432x288 with 1 Axes>"
            ]
          },
          "metadata": {
            "tags": [],
            "needs_background": "light"
          }
        }
      ]
    },
    {
      "cell_type": "code",
      "metadata": {
        "colab": {
          "base_uri": "https://localhost:8080/",
          "height": 434
        },
        "id": "TNa7VHYmrUB6",
        "outputId": "184ad1d0-9598-440c-aa30-73083c5da599"
      },
      "source": [
        "#Rolling stat. of VANDALISM  and Plot Rolling stat. of VANDALISM\n",
        "rolmean_VANDALISM =indexed_VANDALISM.rolling(window=12).mean()\n",
        "rolstd_VANDALISM =indexed_VANDALISM.rolling(window=12).std()\n",
        "# print(rolmean_VANDALISM, rolstd_VANDALISM)\n",
        "\n",
        "orig_VANDALISM = plt.plot(indexed_VANDALISM, color='black',label='original')\n",
        "mean_VANDALISM = plt.plot(rolmean_VANDALISM, color='red',label='Rolling Mean')\n",
        "std_VANDALISM = plt.plot(rolstd_VANDALISM, color='blue', label='Rolling std')\n",
        "plt.legend(loc='best')\n",
        "plt.title('Rolling Mean & Standard Deviation for Vandalism')\n",
        "plt.show(block=False)  \n",
        "\n",
        "from statsmodels.tsa.stattools import adfuller\n",
        "#Dickey-Fuller of VANDALISM  \n",
        "print('Results of Dickey-Fuller for vandalism:')\n",
        "dftest_Vandalism = adfuller(indexed_VANDALISM['Counts'],autolag='AIC')\n",
        "dfoutput_Vandalism = pd.Series(dftest_Vandalism[0:4], index=['Test Stat.','p-value', '#lags used', 'NUmber of Observations Used'])\n",
        "for key,value in dftest_Vandalism[4].items():\n",
        "  dfoutput_Vandalism['Critical Value(%s)'%key]=value\n",
        "print(dfoutput_Vandalism)"
      ],
      "id": "TNa7VHYmrUB6",
      "execution_count": 16,
      "outputs": [
        {
          "output_type": "display_data",
          "data": {
            "image/png": "[encoded data removed]",
            "text/plain": [
              "<Figure size 432x288 with 1 Axes>"
            ]
          },
          "metadata": {
            "tags": [],
            "needs_background": "light"
          }
        },
        {
          "output_type": "stream",
          "text": [
            "Results of Dickey-Fuller for vandalism:\n",
            "Test Stat.                    -8.430820e+00\n",
            "p-value                        1.872301e-13\n",
            "#lags used                     4.000000e+00\n",
            "NUmber of Observations Used    5.500000e+02\n",
            "Critical Value(1%)            -3.442296e+00\n",
            "Critical Value(5%)            -2.866809e+00\n",
            "Critical Value(10%)           -2.569576e+00\n",
            "dtype: float64\n"
          ],
          "name": "stdout"
        }
      ]
    },
    {
      "cell_type": "code",
      "metadata": {
        "colab": {
          "base_uri": "https://localhost:8080/",
          "height": 434
        },
        "id": "PBzQzV4OsWB3",
        "outputId": "74442d4a-214e-41ee-ac14-acbf2ebac2a0"
      },
      "source": [
        "#Rolling stat. of VERBAL_DISPUTE\n",
        "rolmean_VERBAL_DISPUTE =indexed_VERBAL_DISPUTE.rolling(window=12).mean()\n",
        "rolstd_VERBAL_DISPUTE =indexed_VERBAL_DISPUTE.rolling(window=12).std()\n",
        "# print(rolmean_VERBAL_DISPUTE, rolstd_VERBAL_DISPUTE)\n",
        "\n",
        "\n",
        "\n",
        "#Plot Rolling stat. of VERBAL_DISPUTE\n",
        "orig_VERBAL_DISPUTE = plt.plot(indexed_VERBAL_DISPUTE, color='black',label='original')\n",
        "mean_VERBAL_DISPUTE = plt.plot(rolmean_VERBAL_DISPUTE, color='red',label='Rolling Mean')\n",
        "std_VERBAL_DISPUTE = plt.plot(rolstd_VERBAL_DISPUTE, color='blue', label='Rolling std')\n",
        "plt.legend(loc='best')\n",
        "plt.title('Rolling Mean & Standard Deviation for VERBAL_DISPUTE')\n",
        "plt.show(block=False)\n",
        "\n",
        "\n",
        "#Dickey-Fuller of VERBAL_DISPUTE  \n",
        "print('Results of Dickey-Fuller for VERBAL_DISPUTE:')\n",
        "dftest_VERBAL_DISPUTE = adfuller(indexed_VERBAL_DISPUTE['Counts'],autolag='AIC')\n",
        "dfoutput_VERBAL_DISPUTE = pd.Series(dftest_VERBAL_DISPUTE[0:4], index=['Test Stat.','p-value', '#lags used', 'NUmber of Observations Used'])\n",
        "for key,value in dftest_VERBAL_DISPUTE[4].items():\n",
        "  dfoutput_VERBAL_DISPUTE['Critical Value(%s)'%key]=value\n",
        "print(dfoutput_VERBAL_DISPUTE)"
      ],
      "id": "PBzQzV4OsWB3",
      "execution_count": 17,
      "outputs": [
        {
          "output_type": "display_data",
          "data": {
            "image/png": "[encoded data removed]",
            "text/plain": [
              "<Figure size 432x288 with 1 Axes>"
            ]
          },
          "metadata": {
            "tags": [],
            "needs_background": "light"
          }
        },
        {
          "output_type": "stream",
          "text": [
            "Results of Dickey-Fuller for VERBAL_DISPUTE:\n",
            "Test Stat.                      -3.231635\n",
            "p-value                          0.018225\n",
            "#lags used                      14.000000\n",
            "NUmber of Observations Used    540.000000\n",
            "Critical Value(1%)              -3.442518\n",
            "Critical Value(5%)              -2.866907\n",
            "Critical Value(10%)             -2.569629\n",
            "dtype: float64\n"
          ],
          "name": "stdout"
        }
      ]
    },
    {
      "cell_type": "code",
      "metadata": {
        "colab": {
          "base_uri": "https://localhost:8080/"
        },
        "id": "dcjXgaHmtljF",
        "outputId": "93af4eab-2976-45fe-f779-e9e6f48adad4"
      },
      "source": [
        "#installing libraries\n",
        "!pip install pmdarima"
      ],
      "id": "dcjXgaHmtljF",
      "execution_count": 18,
      "outputs": [
        {
          "output_type": "stream",
          "text": [
            "Requirement already satisfied: pmdarima in /usr/local/lib/python3.7/dist-packages (1.8.2)\n",
            "Requirement already satisfied: joblib>=0.11 in /usr/local/lib/python3.7/dist-packages (from pmdarima) (1.0.1)\n",
            "Requirement already satisfied: statsmodels!=0.12.0,>=0.11 in /usr/local/lib/python3.7/dist-packages (from pmdarima) (0.12.2)\n",
            "Requirement already satisfied: Cython!=0.29.18,>=0.29 in /usr/local/lib/python3.7/dist-packages (from pmdarima) (0.29.23)\n",
            "Requirement already satisfied: scipy>=1.3.2 in /usr/local/lib/python3.7/dist-packages (from pmdarima) (1.4.1)\n",
            "Requirement already satisfied: scikit-learn>=0.22 in /usr/local/lib/python3.7/dist-packages (from pmdarima) (0.22.2.post1)\n",
            "Requirement already satisfied: numpy~=1.19.0 in /usr/local/lib/python3.7/dist-packages (from pmdarima) (1.19.5)\n",
            "Requirement already satisfied: pandas>=0.19 in /usr/local/lib/python3.7/dist-packages (from pmdarima) (1.1.5)\n",
            "Requirement already satisfied: urllib3 in /usr/local/lib/python3.7/dist-packages (from pmdarima) (1.24.3)\n",
            "Requirement already satisfied: setuptools!=50.0.0,>=38.6.0 in /usr/local/lib/python3.7/dist-packages (from pmdarima) (57.0.0)\n",
            "Requirement already satisfied: patsy>=0.5 in /usr/local/lib/python3.7/dist-packages (from statsmodels!=0.12.0,>=0.11->pmdarima) (0.5.1)\n",
            "Requirement already satisfied: python-dateutil>=2.7.3 in /usr/local/lib/python3.7/dist-packages (from pandas>=0.19->pmdarima) (2.8.1)\n",
            "Requirement already satisfied: pytz>=2017.2 in /usr/local/lib/python3.7/dist-packages (from pandas>=0.19->pmdarima) (2018.9)\n",
            "Requirement already satisfied: six in /usr/local/lib/python3.7/dist-packages (from patsy>=0.5->statsmodels!=0.12.0,>=0.11->pmdarima) (1.15.0)\n"
          ],
          "name": "stdout"
        }
      ]
    },
    {
      "cell_type": "code",
      "metadata": {
        "id": "1QGQbaz-tlfq"
      },
      "source": [
        "#importing libraries\n",
        "from pmdarima import auto_arima\n",
        "import warnings\n",
        "warnings.filterwarnings(\"ignore\")"
      ],
      "id": "1QGQbaz-tlfq",
      "execution_count": 19,
      "outputs": []
    },
    {
      "cell_type": "code",
      "metadata": {
        "colab": {
          "base_uri": "https://localhost:8080/"
        },
        "id": "KMJK0zdP3RI8",
        "outputId": "9cab575b-1808-426b-febb-457006b3d0ff"
      },
      "source": [
        "#Stepwise search for VANDALISM\n",
        "stepwise_fit_VANDALISM=auto_arima(indexed_VANDALISM['Counts'], trace=True, suppress_warnings=True)\n",
        "stepwise_fit_VANDALISM.summary"
      ],
      "id": "KMJK0zdP3RI8",
      "execution_count": 20,
      "outputs": [
        {
          "output_type": "stream",
          "text": [
            "Performing stepwise search to minimize aic\n",
            " ARIMA(2,0,2)(0,0,0)[0] intercept   : AIC=3035.822, Time=0.99 sec\n",
            " ARIMA(0,0,0)(0,0,0)[0] intercept   : AIC=3071.638, Time=0.04 sec\n",
            " ARIMA(1,0,0)(0,0,0)[0] intercept   : AIC=3038.232, Time=0.10 sec\n",
            " ARIMA(0,0,1)(0,0,0)[0] intercept   : AIC=3042.953, Time=0.15 sec\n",
            " ARIMA(0,0,0)(0,0,0)[0]             : AIC=4095.403, Time=0.02 sec\n",
            " ARIMA(1,0,2)(0,0,0)[0] intercept   : AIC=3033.135, Time=1.07 sec\n",
            " ARIMA(0,0,2)(0,0,0)[0] intercept   : AIC=3041.151, Time=0.17 sec\n",
            " ARIMA(1,0,1)(0,0,0)[0] intercept   : AIC=3035.947, Time=0.43 sec\n",
            " ARIMA(1,0,3)(0,0,0)[0] intercept   : AIC=3039.521, Time=0.29 sec\n",
            " ARIMA(0,0,3)(0,0,0)[0] intercept   : AIC=3036.523, Time=0.23 sec\n",
            " ARIMA(2,0,1)(0,0,0)[0] intercept   : AIC=3034.121, Time=1.04 sec\n",
            " ARIMA(2,0,3)(0,0,0)[0] intercept   : AIC=3035.632, Time=1.29 sec\n",
            " ARIMA(1,0,2)(0,0,0)[0]             : AIC=3039.361, Time=0.28 sec\n",
            "\n",
            "Best model:  ARIMA(1,0,2)(0,0,0)[0] intercept\n",
            "Total fit time: 6.121 seconds\n"
          ],
          "name": "stdout"
        },
        {
          "output_type": "execute_result",
          "data": {
            "text/plain": [
              "<function pmdarima.arima.arima.ARIMA.summary>"
            ]
          },
          "metadata": {
            "tags": []
          },
          "execution_count": 20
        }
      ]
    },
    {
      "cell_type": "code",
      "metadata": {
        "colab": {
          "base_uri": "https://localhost:8080/"
        },
        "id": "HtGWdU0LtlAP",
        "outputId": "715f41db-9144-4618-c769-61796c664cbd"
      },
      "source": [
        "#Stepwise search for VERBAL_DISPUTE\n",
        "stepwise_fit_VERBAL_DISPUTE=auto_arima(indexed_VERBAL_DISPUTE['Counts'], trace=True, suppress_warnings=True)\n",
        "stepwise_fit_VERBAL_DISPUTE.summary"
      ],
      "id": "HtGWdU0LtlAP",
      "execution_count": 21,
      "outputs": [
        {
          "output_type": "stream",
          "text": [
            "Performing stepwise search to minimize aic\n",
            " ARIMA(2,1,2)(0,0,0)[0] intercept   : AIC=2441.205, Time=0.89 sec\n",
            " ARIMA(0,1,0)(0,0,0)[0] intercept   : AIC=2790.319, Time=0.03 sec\n",
            " ARIMA(1,1,0)(0,0,0)[0] intercept   : AIC=2625.105, Time=0.08 sec\n",
            " ARIMA(0,1,1)(0,0,0)[0] intercept   : AIC=2436.163, Time=0.18 sec\n",
            " ARIMA(0,1,0)(0,0,0)[0]             : AIC=2788.326, Time=0.02 sec\n",
            " ARIMA(1,1,1)(0,0,0)[0] intercept   : AIC=2438.157, Time=0.30 sec\n",
            " ARIMA(0,1,2)(0,0,0)[0] intercept   : AIC=2438.157, Time=0.27 sec\n",
            " ARIMA(1,1,2)(0,0,0)[0] intercept   : AIC=2440.146, Time=0.35 sec\n",
            " ARIMA(0,1,1)(0,0,0)[0]             : AIC=2435.150, Time=0.06 sec\n",
            " ARIMA(1,1,1)(0,0,0)[0]             : AIC=2437.136, Time=0.12 sec\n",
            " ARIMA(0,1,2)(0,0,0)[0]             : AIC=2437.136, Time=0.10 sec\n",
            " ARIMA(1,1,0)(0,0,0)[0]             : AIC=2623.115, Time=0.04 sec\n",
            " ARIMA(1,1,2)(0,0,0)[0]             : AIC=2438.407, Time=0.33 sec\n",
            "\n",
            "Best model:  ARIMA(0,1,1)(0,0,0)[0]          \n",
            "Total fit time: 2.803 seconds\n"
          ],
          "name": "stdout"
        },
        {
          "output_type": "execute_result",
          "data": {
            "text/plain": [
              "<function pmdarima.arima.arima.ARIMA.summary>"
            ]
          },
          "metadata": {
            "tags": []
          },
          "execution_count": 21
        }
      ]
    },
    {
      "cell_type": "code",
      "metadata": {
        "id": "3R19P5sY2rUN"
      },
      "source": [
        "#importing libraries\n",
        "from statsmodels.tsa.arima_model import ARIMA"
      ],
      "id": "3R19P5sY2rUN",
      "execution_count": 22,
      "outputs": []
    },
    {
      "cell_type": "code",
      "metadata": {
        "colab": {
          "base_uri": "https://localhost:8080/",
          "height": 393
        },
        "id": "shIzqoz-30EZ",
        "outputId": "72076cd9-c849-45d5-8fd2-703458baca1a"
      },
      "source": [
        "# training for VANDALISM \n",
        "model= ARIMA(indexed_VANDALISM['Counts'], order=(2,0,1))\n",
        "model=model.fit()\n",
        "model.summary()"
      ],
      "id": "shIzqoz-30EZ",
      "execution_count": 23,
      "outputs": [
        {
          "output_type": "execute_result",
          "data": {
            "text/html": [
              "<table class=\"simpletable\">\n",
              "<caption>ARMA Model Results</caption>\n",
              "<tr>\n",
              "  <th>Dep. Variable:</th>      <td>Counts</td>      <th>  No. Observations:  </th>    <td>555</td>   \n",
              "</tr>\n",
              "<tr>\n",
              "  <th>Model:</th>            <td>ARMA(2, 1)</td>    <th>  Log Likelihood     </th> <td>-1510.758</td>\n",
              "</tr>\n",
              "<tr>\n",
              "  <th>Method:</th>             <td>css-mle</td>     <th>  S.D. of innovations</th>   <td>3.680</td>  \n",
              "</tr>\n",
              "<tr>\n",
              "  <th>Date:</th>          <td>Tue, 13 Jul 2021</td> <th>  AIC                </th> <td>3031.515</td> \n",
              "</tr>\n",
              "<tr>\n",
              "  <th>Time:</th>              <td>14:15:53</td>     <th>  BIC                </th> <td>3053.110</td> \n",
              "</tr>\n",
              "<tr>\n",
              "  <th>Sample:</th>           <td>01-01-2020</td>    <th>  HQIC               </th> <td>3039.951</td> \n",
              "</tr>\n",
              "<tr>\n",
              "  <th></th>                 <td>- 07-08-2021</td>   <th>                     </th>     <td> </td>    \n",
              "</tr>\n",
              "</table>\n",
              "<table class=\"simpletable\">\n",
              "<tr>\n",
              "        <td></td>          <th>coef</th>     <th>std err</th>      <th>z</th>      <th>P>|z|</th>  <th>[0.025</th>    <th>0.975]</th>  \n",
              "</tr>\n",
              "<tr>\n",
              "  <th>const</th>        <td>    8.8037</td> <td>    0.430</td> <td>   20.454</td> <td> 0.000</td> <td>    7.960</td> <td>    9.647</td>\n",
              "</tr>\n",
              "<tr>\n",
              "  <th>ar.L1.Counts</th> <td>    1.1537</td> <td>    0.055</td> <td>   20.820</td> <td> 0.000</td> <td>    1.045</td> <td>    1.262</td>\n",
              "</tr>\n",
              "<tr>\n",
              "  <th>ar.L2.Counts</th> <td>   -0.1763</td> <td>    0.046</td> <td>   -3.803</td> <td> 0.000</td> <td>   -0.267</td> <td>   -0.085</td>\n",
              "</tr>\n",
              "<tr>\n",
              "  <th>ma.L1.Counts</th> <td>   -0.9358</td> <td>    0.034</td> <td>  -27.251</td> <td> 0.000</td> <td>   -1.003</td> <td>   -0.869</td>\n",
              "</tr>\n",
              "</table>\n",
              "<table class=\"simpletable\">\n",
              "<caption>Roots</caption>\n",
              "<tr>\n",
              "    <td></td>   <th>            Real</th>  <th>         Imaginary</th> <th>         Modulus</th>  <th>        Frequency</th>\n",
              "</tr>\n",
              "<tr>\n",
              "  <th>AR.1</th> <td>           1.0284</td> <td>          +0.0000j</td> <td>           1.0284</td> <td>           0.0000</td>\n",
              "</tr>\n",
              "<tr>\n",
              "  <th>AR.2</th> <td>           5.5144</td> <td>          +0.0000j</td> <td>           5.5144</td> <td>           0.0000</td>\n",
              "</tr>\n",
              "<tr>\n",
              "  <th>MA.1</th> <td>           1.0685</td> <td>          +0.0000j</td> <td>           1.0685</td> <td>           0.0000</td>\n",
              "</tr>\n",
              "</table>"
            ],
            "text/plain": [
              "<class 'statsmodels.iolib.summary.Summary'>\n",
              "\"\"\"\n",
              "                              ARMA Model Results                              \n",
              "==============================================================================\n",
              "Dep. Variable:                 Counts   No. Observations:                  555\n",
              "Model:                     ARMA(2, 1)   Log Likelihood               -1510.758\n",
              "Method:                       css-mle   S.D. of innovations              3.680\n",
              "Date:                Tue, 13 Jul 2021   AIC                           3031.515\n",
              "Time:                        14:15:53   BIC                           3053.110\n",
              "Sample:                    01-01-2020   HQIC                          3039.951\n",
              "                         - 07-08-2021                                         \n",
              "================================================================================\n",
              "                   coef    std err          z      P>|z|      [0.025      0.975]\n",
              "--------------------------------------------------------------------------------\n",
              "const            8.8037      0.430     20.454      0.000       7.960       9.647\n",
              "ar.L1.Counts     1.1537      0.055     20.820      0.000       1.045       1.262\n",
              "ar.L2.Counts    -0.1763      0.046     -3.803      0.000      -0.267      -0.085\n",
              "ma.L1.Counts    -0.9358      0.034    -27.251      0.000      -1.003      -0.869\n",
              "                                    Roots                                    \n",
              "=============================================================================\n",
              "                  Real          Imaginary           Modulus         Frequency\n",
              "-----------------------------------------------------------------------------\n",
              "AR.1            1.0284           +0.0000j            1.0284            0.0000\n",
              "AR.2            5.5144           +0.0000j            5.5144            0.0000\n",
              "MA.1            1.0685           +0.0000j            1.0685            0.0000\n",
              "-----------------------------------------------------------------------------\n",
              "\"\"\""
            ]
          },
          "metadata": {
            "tags": []
          },
          "execution_count": 23
        }
      ]
    },
    {
      "cell_type": "code",
      "metadata": {
        "colab": {
          "base_uri": "https://localhost:8080/"
        },
        "id": "IfJY9mdk54pu",
        "outputId": "adc7fd39-28a5-4322-bcf0-a81082c7b703"
      },
      "source": [
        "# Creating testing data sets\n",
        "for_range = pd.date_range('2021-07-9', periods=176, freq='D')\n",
        "for_dataset = pd.DataFrame({ 'Date': for_range, 'VANDALISM': for_range, 'VERBAL_DISPUTE': for_range}) \n",
        "\n",
        "print (for_dataset)"
      ],
      "id": "IfJY9mdk54pu",
      "execution_count": 24,
      "outputs": [
        {
          "output_type": "stream",
          "text": [
            "          Date  VANDALISM VERBAL_DISPUTE\n",
            "0   2021-07-09 2021-07-09     2021-07-09\n",
            "1   2021-07-10 2021-07-10     2021-07-10\n",
            "2   2021-07-11 2021-07-11     2021-07-11\n",
            "3   2021-07-12 2021-07-12     2021-07-12\n",
            "4   2021-07-13 2021-07-13     2021-07-13\n",
            "..         ...        ...            ...\n",
            "171 2021-12-27 2021-12-27     2021-12-27\n",
            "172 2021-12-28 2021-12-28     2021-12-28\n",
            "173 2021-12-29 2021-12-29     2021-12-29\n",
            "174 2021-12-30 2021-12-30     2021-12-30\n",
            "175 2021-12-31 2021-12-31     2021-12-31\n",
            "\n",
            "[176 rows x 3 columns]\n"
          ],
          "name": "stdout"
        }
      ]
    },
    {
      "cell_type": "code",
      "metadata": {
        "colab": {
          "base_uri": "https://localhost:8080/"
        },
        "id": "5L_k-xTg4NeU",
        "outputId": "508bba9c-ba18-4d9e-97c4-521d1cef4cfd"
      },
      "source": [
        "# Testing for VANDALISM \n",
        "pred_VANDALISM =model.predict(start=len(indexed_VANDALISM['Counts']),end=(len(indexed_VANDALISM['Counts'])+len(for_dataset['Date'])-1),typ='levels')\n",
        "print(pred_VANDALISM ) "
      ],
      "id": "5L_k-xTg4NeU",
      "execution_count": 25,
      "outputs": [
        {
          "output_type": "stream",
          "text": [
            "2021-07-09    6.991393\n",
            "2021-07-10    8.265200\n",
            "2021-07-11    8.501991\n",
            "2021-07-12    8.550566\n",
            "2021-07-13    8.564853\n",
            "                ...   \n",
            "2021-12-27    8.801444\n",
            "2021-12-28    8.801505\n",
            "2021-12-29    8.801565\n",
            "2021-12-30    8.801622\n",
            "2021-12-31    8.801678\n",
            "Freq: D, Length: 176, dtype: float64\n"
          ],
          "name": "stdout"
        }
      ]
    },
    {
      "cell_type": "code",
      "metadata": {
        "colab": {
          "base_uri": "https://localhost:8080/",
          "height": 419
        },
        "id": "0sD3S3xx-YcB",
        "outputId": "66d949c5-377e-418b-9d1b-51b10408a366"
      },
      "source": [
        "#inserting VANDALISM into dataframe for final output\n",
        "predicted_VANDALISM_dic=pred_VANDALISM.to_dict()\n",
        "for_dataset[\"VANDALISM\"]=for_dataset[\"VANDALISM\"].map(predicted_VANDALISM_dic)\n",
        "for_dataset"
      ],
      "id": "0sD3S3xx-YcB",
      "execution_count": 26,
      "outputs": [
        {
          "output_type": "execute_result",
          "data": {
            "text/html": [
              "<div>\n",
              "<style scoped>\n",
              "    .dataframe tbody tr th:only-of-type {\n",
              "        vertical-align: middle;\n",
              "    }\n",
              "\n",
              "    .dataframe tbody tr th {\n",
              "        vertical-align: top;\n",
              "    }\n",
              "\n",
              "    .dataframe thead th {\n",
              "        text-align: right;\n",
              "    }\n",
              "</style>\n",
              "<table border=\"1\" class=\"dataframe\">\n",
              "  <thead>\n",
              "    <tr style=\"text-align: right;\">\n",
              "      <th></th>\n",
              "      <th>Date</th>\n",
              "      <th>VANDALISM</th>\n",
              "      <th>VERBAL_DISPUTE</th>\n",
              "    </tr>\n",
              "  </thead>\n",
              "  <tbody>\n",
              "    <tr>\n",
              "      <th>0</th>\n",
              "      <td>2021-07-09</td>\n",
              "      <td>6.991393</td>\n",
              "      <td>2021-07-09</td>\n",
              "    </tr>\n",
              "    <tr>\n",
              "      <th>1</th>\n",
              "      <td>2021-07-10</td>\n",
              "      <td>8.265200</td>\n",
              "      <td>2021-07-10</td>\n",
              "    </tr>\n",
              "    <tr>\n",
              "      <th>2</th>\n",
              "      <td>2021-07-11</td>\n",
              "      <td>8.501991</td>\n",
              "      <td>2021-07-11</td>\n",
              "    </tr>\n",
              "    <tr>\n",
              "      <th>3</th>\n",
              "      <td>2021-07-12</td>\n",
              "      <td>8.550566</td>\n",
              "      <td>2021-07-12</td>\n",
              "    </tr>\n",
              "    <tr>\n",
              "      <th>4</th>\n",
              "      <td>2021-07-13</td>\n",
              "      <td>8.564853</td>\n",
              "      <td>2021-07-13</td>\n",
              "    </tr>\n",
              "    <tr>\n",
              "      <th>...</th>\n",
              "      <td>...</td>\n",
              "      <td>...</td>\n",
              "      <td>...</td>\n",
              "    </tr>\n",
              "    <tr>\n",
              "      <th>171</th>\n",
              "      <td>2021-12-27</td>\n",
              "      <td>8.801444</td>\n",
              "      <td>2021-12-27</td>\n",
              "    </tr>\n",
              "    <tr>\n",
              "      <th>172</th>\n",
              "      <td>2021-12-28</td>\n",
              "      <td>8.801505</td>\n",
              "      <td>2021-12-28</td>\n",
              "    </tr>\n",
              "    <tr>\n",
              "      <th>173</th>\n",
              "      <td>2021-12-29</td>\n",
              "      <td>8.801565</td>\n",
              "      <td>2021-12-29</td>\n",
              "    </tr>\n",
              "    <tr>\n",
              "      <th>174</th>\n",
              "      <td>2021-12-30</td>\n",
              "      <td>8.801622</td>\n",
              "      <td>2021-12-30</td>\n",
              "    </tr>\n",
              "    <tr>\n",
              "      <th>175</th>\n",
              "      <td>2021-12-31</td>\n",
              "      <td>8.801678</td>\n",
              "      <td>2021-12-31</td>\n",
              "    </tr>\n",
              "  </tbody>\n",
              "</table>\n",
              "<p>176 rows × 3 columns</p>\n",
              "</div>"
            ],
            "text/plain": [
              "          Date  VANDALISM VERBAL_DISPUTE\n",
              "0   2021-07-09   6.991393     2021-07-09\n",
              "1   2021-07-10   8.265200     2021-07-10\n",
              "2   2021-07-11   8.501991     2021-07-11\n",
              "3   2021-07-12   8.550566     2021-07-12\n",
              "4   2021-07-13   8.564853     2021-07-13\n",
              "..         ...        ...            ...\n",
              "171 2021-12-27   8.801444     2021-12-27\n",
              "172 2021-12-28   8.801505     2021-12-28\n",
              "173 2021-12-29   8.801565     2021-12-29\n",
              "174 2021-12-30   8.801622     2021-12-30\n",
              "175 2021-12-31   8.801678     2021-12-31\n",
              "\n",
              "[176 rows x 3 columns]"
            ]
          },
          "metadata": {
            "tags": []
          },
          "execution_count": 26
        }
      ]
    },
    {
      "cell_type": "code",
      "metadata": {
        "colab": {
          "base_uri": "https://localhost:8080/",
          "height": 393
        },
        "id": "d1jb8Xlc3z_a",
        "outputId": "19255fab-b634-475a-d0d4-0b6136b34a1a"
      },
      "source": [
        "# training for VERBAL_DISPUTE\n",
        "model= ARIMA(indexed_VERBAL_DISPUTE['Counts'], order=(2,0,1))\n",
        "model=model.fit()\n",
        "model.summary()"
      ],
      "id": "d1jb8Xlc3z_a",
      "execution_count": 27,
      "outputs": [
        {
          "output_type": "execute_result",
          "data": {
            "text/html": [
              "<table class=\"simpletable\">\n",
              "<caption>ARMA Model Results</caption>\n",
              "<tr>\n",
              "  <th>Dep. Variable:</th>      <td>Counts</td>      <th>  No. Observations:  </th>    <td>555</td>   \n",
              "</tr>\n",
              "<tr>\n",
              "  <th>Model:</th>            <td>ARMA(2, 1)</td>    <th>  Log Likelihood     </th> <td>-1215.753</td>\n",
              "</tr>\n",
              "<tr>\n",
              "  <th>Method:</th>             <td>css-mle</td>     <th>  S.D. of innovations</th>   <td>2.162</td>  \n",
              "</tr>\n",
              "<tr>\n",
              "  <th>Date:</th>          <td>Tue, 13 Jul 2021</td> <th>  AIC                </th> <td>2441.505</td> \n",
              "</tr>\n",
              "<tr>\n",
              "  <th>Time:</th>              <td>14:16:01</td>     <th>  BIC                </th> <td>2463.100</td> \n",
              "</tr>\n",
              "<tr>\n",
              "  <th>Sample:</th>           <td>01-01-2020</td>    <th>  HQIC               </th> <td>2449.941</td> \n",
              "</tr>\n",
              "<tr>\n",
              "  <th></th>                 <td>- 07-08-2021</td>   <th>                     </th>     <td> </td>    \n",
              "</tr>\n",
              "</table>\n",
              "<table class=\"simpletable\">\n",
              "<tr>\n",
              "        <td></td>          <th>coef</th>     <th>std err</th>      <th>z</th>      <th>P>|z|</th>  <th>[0.025</th>    <th>0.975]</th>  \n",
              "</tr>\n",
              "<tr>\n",
              "  <th>const</th>        <td>    4.1670</td> <td>    0.407</td> <td>   10.245</td> <td> 0.000</td> <td>    3.370</td> <td>    4.964</td>\n",
              "</tr>\n",
              "<tr>\n",
              "  <th>ar.L1.Counts</th> <td>    0.9787</td> <td>    0.047</td> <td>   20.727</td> <td> 0.000</td> <td>    0.886</td> <td>    1.071</td>\n",
              "</tr>\n",
              "<tr>\n",
              "  <th>ar.L2.Counts</th> <td>    0.0091</td> <td>    0.045</td> <td>    0.205</td> <td> 0.838</td> <td>   -0.078</td> <td>    0.097</td>\n",
              "</tr>\n",
              "<tr>\n",
              "  <th>ma.L1.Counts</th> <td>   -0.9398</td> <td>    0.021</td> <td>  -45.255</td> <td> 0.000</td> <td>   -0.981</td> <td>   -0.899</td>\n",
              "</tr>\n",
              "</table>\n",
              "<table class=\"simpletable\">\n",
              "<caption>Roots</caption>\n",
              "<tr>\n",
              "    <td></td>   <th>            Real</th>  <th>         Imaginary</th> <th>         Modulus</th>  <th>        Frequency</th>\n",
              "</tr>\n",
              "<tr>\n",
              "  <th>AR.1</th> <td>           1.0122</td> <td>          +0.0000j</td> <td>           1.0122</td> <td>           0.0000</td>\n",
              "</tr>\n",
              "<tr>\n",
              "  <th>AR.2</th> <td>        -108.2482</td> <td>          +0.0000j</td> <td>         108.2482</td> <td>           0.5000</td>\n",
              "</tr>\n",
              "<tr>\n",
              "  <th>MA.1</th> <td>           1.0640</td> <td>          +0.0000j</td> <td>           1.0640</td> <td>           0.0000</td>\n",
              "</tr>\n",
              "</table>"
            ],
            "text/plain": [
              "<class 'statsmodels.iolib.summary.Summary'>\n",
              "\"\"\"\n",
              "                              ARMA Model Results                              \n",
              "==============================================================================\n",
              "Dep. Variable:                 Counts   No. Observations:                  555\n",
              "Model:                     ARMA(2, 1)   Log Likelihood               -1215.753\n",
              "Method:                       css-mle   S.D. of innovations              2.162\n",
              "Date:                Tue, 13 Jul 2021   AIC                           2441.505\n",
              "Time:                        14:16:01   BIC                           2463.100\n",
              "Sample:                    01-01-2020   HQIC                          2449.941\n",
              "                         - 07-08-2021                                         \n",
              "================================================================================\n",
              "                   coef    std err          z      P>|z|      [0.025      0.975]\n",
              "--------------------------------------------------------------------------------\n",
              "const            4.1670      0.407     10.245      0.000       3.370       4.964\n",
              "ar.L1.Counts     0.9787      0.047     20.727      0.000       0.886       1.071\n",
              "ar.L2.Counts     0.0091      0.045      0.205      0.838      -0.078       0.097\n",
              "ma.L1.Counts    -0.9398      0.021    -45.255      0.000      -0.981      -0.899\n",
              "                                    Roots                                    \n",
              "=============================================================================\n",
              "                  Real          Imaginary           Modulus         Frequency\n",
              "-----------------------------------------------------------------------------\n",
              "AR.1            1.0122           +0.0000j            1.0122            0.0000\n",
              "AR.2         -108.2482           +0.0000j          108.2482            0.5000\n",
              "MA.1            1.0640           +0.0000j            1.0640            0.0000\n",
              "-----------------------------------------------------------------------------\n",
              "\"\"\""
            ]
          },
          "metadata": {
            "tags": []
          },
          "execution_count": 27
        }
      ]
    },
    {
      "cell_type": "code",
      "metadata": {
        "colab": {
          "base_uri": "https://localhost:8080/"
        },
        "id": "nzNaArDb3z7c",
        "outputId": "bb13f94b-5586-4463-a960-6c4d18721159"
      },
      "source": [
        "# Testing for VERBAL_DISPUTE\n",
        "pred_VERBAL_DISPUTE=model.predict(start=len(indexed_VERBAL_DISPUTE['Counts']),end=(len(indexed_VERBAL_DISPUTE['Counts'])+len(for_dataset['Date'])-1),typ='levels')\n",
        "print(pred_VERBAL_DISPUTE) "
      ],
      "id": "nzNaArDb3z7c",
      "execution_count": 28,
      "outputs": [
        {
          "output_type": "stream",
          "text": [
            "2021-07-09    5.063999\n",
            "2021-07-10    5.006839\n",
            "2021-07-11    4.997113\n",
            "2021-07-12    4.987074\n",
            "2021-07-13    4.977160\n",
            "                ...   \n",
            "2021-12-27    4.273297\n",
            "2021-12-28    4.272012\n",
            "2021-12-29    4.270743\n",
            "2021-12-30    4.269489\n",
            "2021-12-31    4.268251\n",
            "Freq: D, Length: 176, dtype: float64\n"
          ],
          "name": "stdout"
        }
      ]
    },
    {
      "cell_type": "code",
      "metadata": {
        "colab": {
          "base_uri": "https://localhost:8080/",
          "height": 419
        },
        "id": "YpD1kYpa__PV",
        "outputId": "e1c7de05-7020-4b14-b5c6-bf2f7f732804"
      },
      "source": [
        "#inserting VERBAL_DISPUTE into dataframe for final output\n",
        "predicted_VERBAL_DISPUTE_dic=pred_VERBAL_DISPUTE.to_dict()\n",
        "for_dataset[\"VERBAL_DISPUTE\"]=for_dataset[\"VERBAL_DISPUTE\"].map(predicted_VERBAL_DISPUTE_dic)\n",
        "for_dataset"
      ],
      "id": "YpD1kYpa__PV",
      "execution_count": 29,
      "outputs": [
        {
          "output_type": "execute_result",
          "data": {
            "text/html": [
              "<div>\n",
              "<style scoped>\n",
              "    .dataframe tbody tr th:only-of-type {\n",
              "        vertical-align: middle;\n",
              "    }\n",
              "\n",
              "    .dataframe tbody tr th {\n",
              "        vertical-align: top;\n",
              "    }\n",
              "\n",
              "    .dataframe thead th {\n",
              "        text-align: right;\n",
              "    }\n",
              "</style>\n",
              "<table border=\"1\" class=\"dataframe\">\n",
              "  <thead>\n",
              "    <tr style=\"text-align: right;\">\n",
              "      <th></th>\n",
              "      <th>Date</th>\n",
              "      <th>VANDALISM</th>\n",
              "      <th>VERBAL_DISPUTE</th>\n",
              "    </tr>\n",
              "  </thead>\n",
              "  <tbody>\n",
              "    <tr>\n",
              "      <th>0</th>\n",
              "      <td>2021-07-09</td>\n",
              "      <td>6.991393</td>\n",
              "      <td>5.063999</td>\n",
              "    </tr>\n",
              "    <tr>\n",
              "      <th>1</th>\n",
              "      <td>2021-07-10</td>\n",
              "      <td>8.265200</td>\n",
              "      <td>5.006839</td>\n",
              "    </tr>\n",
              "    <tr>\n",
              "      <th>2</th>\n",
              "      <td>2021-07-11</td>\n",
              "      <td>8.501991</td>\n",
              "      <td>4.997113</td>\n",
              "    </tr>\n",
              "    <tr>\n",
              "      <th>3</th>\n",
              "      <td>2021-07-12</td>\n",
              "      <td>8.550566</td>\n",
              "      <td>4.987074</td>\n",
              "    </tr>\n",
              "    <tr>\n",
              "      <th>4</th>\n",
              "      <td>2021-07-13</td>\n",
              "      <td>8.564853</td>\n",
              "      <td>4.977160</td>\n",
              "    </tr>\n",
              "    <tr>\n",
              "      <th>...</th>\n",
              "      <td>...</td>\n",
              "      <td>...</td>\n",
              "      <td>...</td>\n",
              "    </tr>\n",
              "    <tr>\n",
              "      <th>171</th>\n",
              "      <td>2021-12-27</td>\n",
              "      <td>8.801444</td>\n",
              "      <td>4.273297</td>\n",
              "    </tr>\n",
              "    <tr>\n",
              "      <th>172</th>\n",
              "      <td>2021-12-28</td>\n",
              "      <td>8.801505</td>\n",
              "      <td>4.272012</td>\n",
              "    </tr>\n",
              "    <tr>\n",
              "      <th>173</th>\n",
              "      <td>2021-12-29</td>\n",
              "      <td>8.801565</td>\n",
              "      <td>4.270743</td>\n",
              "    </tr>\n",
              "    <tr>\n",
              "      <th>174</th>\n",
              "      <td>2021-12-30</td>\n",
              "      <td>8.801622</td>\n",
              "      <td>4.269489</td>\n",
              "    </tr>\n",
              "    <tr>\n",
              "      <th>175</th>\n",
              "      <td>2021-12-31</td>\n",
              "      <td>8.801678</td>\n",
              "      <td>4.268251</td>\n",
              "    </tr>\n",
              "  </tbody>\n",
              "</table>\n",
              "<p>176 rows × 3 columns</p>\n",
              "</div>"
            ],
            "text/plain": [
              "          Date  VANDALISM  VERBAL_DISPUTE\n",
              "0   2021-07-09   6.991393        5.063999\n",
              "1   2021-07-10   8.265200        5.006839\n",
              "2   2021-07-11   8.501991        4.997113\n",
              "3   2021-07-12   8.550566        4.987074\n",
              "4   2021-07-13   8.564853        4.977160\n",
              "..         ...        ...             ...\n",
              "171 2021-12-27   8.801444        4.273297\n",
              "172 2021-12-28   8.801505        4.272012\n",
              "173 2021-12-29   8.801565        4.270743\n",
              "174 2021-12-30   8.801622        4.269489\n",
              "175 2021-12-31   8.801678        4.268251\n",
              "\n",
              "[176 rows x 3 columns]"
            ]
          },
          "metadata": {
            "tags": []
          },
          "execution_count": 29
        }
      ]
    },
    {
      "cell_type": "code",
      "metadata": {
        "id": "e9FBLf-P3z1c"
      },
      "source": [
        "#Generating final CSV\n",
        "for_dataset.to_csv('crime_pred.csv',index=False)"
      ],
      "id": "e9FBLf-P3z1c",
      "execution_count": 30,
      "outputs": []
    },
    {
      "cell_type": "code",
      "metadata": {
        "id": "9x_RgjB13ztA"
      },
      "source": [
        ""
      ],
      "id": "9x_RgjB13ztA",
      "execution_count": null,
      "outputs": []
    },
    {
      "cell_type": "code",
      "metadata": {
        "id": "H2k8-3oYHcxW"
      },
      "source": [
        ""
      ],
      "id": "H2k8-3oYHcxW",
      "execution_count": 95,
      "outputs": []
    },
    {
      "cell_type": "code",
      "metadata": {
        "id": "jPQGTegxHgHp"
      },
      "source": [
        ""
      ],
      "id": "jPQGTegxHgHp",
      "execution_count": null,
      "outputs": []
    },
    {
      "cell_type": "markdown",
      "metadata": {
        "id": "daily-finnish"
      },
      "source": [
        "# Part 2\n",
        "\n",
        "market1_train.csv contains time series observations for 100 different entities ID0, ID1, ..., ID99. market2_train.csv is similar. You will find that there is some correlation across entities within a market and that the two markets are independent of each other.\n",
        "\n",
        "For each entity in each market, predict the value of the time series for the next 20 time periods (2021-07-10 through 2021-07-29). Save your predictions for the first dataset in a csv file named market1_pred.csv with the same format as market1_train.csv (and similarly for predictions on the second dataset).\n",
        "\n",
        "When assessing your submission, we will note the accuracy of your predictions, but mostly we will focus on whether you made an effort to validate your model's performance using a hold-out test set. Be sure to pursue a validation strategy that respects the time series nature of the data."
      ],
      "id": "daily-finnish"
    },
    {
      "cell_type": "code",
      "metadata": {
        "id": "japanese-shipping"
      },
      "source": [
        "import pandas as pd\n",
        "\n",
        "market1 = pd.read_csv('./market1_train.csv', index_col=0)\n",
        "market1.tail()"
      ],
      "id": "japanese-shipping",
      "execution_count": null,
      "outputs": []
    }
  ]
}