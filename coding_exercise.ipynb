{
  "nbformat": 4,
  "nbformat_minor": 5,
  "metadata": {
    "kernelspec": {
      "display_name": "Python 3",
      "language": "python",
      "name": "python3"
    },
    "language_info": {
      "codemirror_mode": {
        "name": "ipython",
        "version": 3
      },
      "file_extension": ".py",
      "mimetype": "text/x-python",
      "name": "python",
      "nbconvert_exporter": "python",
      "pygments_lexer": "ipython3",
      "version": "3.7.7"
    },
    "colab": {
      "name": "coding_exercise.ipynb",
      "provenance": [],
      "include_colab_link": true
    }
  },
  "cells": [
    {
      "cell_type": "markdown",
      "metadata": {
        "id": "view-in-github",
        "colab_type": "text"
      },
      "source": [
        "<a href=\"https://colab.research.google.com/github/Rakib-Ul-Haque/Crime_and_market_data_analysis/blob/main/coding_exercise.ipynb\" target=\"_parent\"><img src=\"https://colab.research.google.com/assets/colab-badge.svg\" alt=\"Open In Colab\"/></a>"
      ]
    },
    {
      "cell_type": "markdown",
      "metadata": {
        "id": "covered-suffering"
      },
      "source": [
        "# Introduction\n",
        "\n",
        "Thank you for applying to Double River! This is a coding assessment you can use to showcase your programming skills. We expect you to have this completed and submitted by the night of Saturday July 17th (any time zone).\n",
        "\n",
        "This coding assessment has 2 parts. It is very open-ended, and there is not a single correct response. There are many possible approaches; choose one or two rather than attacking the problem every possible way. We do not expect you to take more than 3-4 hours at maximum. You will be assessed on your creativity and the clarity with which you explain the steps you take. Please document your data exploration and modeling process. We expect you to use Python. Feel free to use any open source packages you desire.\n",
        "\n",
        "Your submission should consist of a zipped directory named lastname_firstname.zip (with your own last name and first name substituted) containing \n",
        "1. coding_exercise.ipynb, containing your code and relevant figures. Feel free to just modify this file you are reading\n",
        "2. crime_pred.csv, containing your predictions for Part 1\n",
        "3. market1_pred.csv, containing half your predictions for Part 2\n",
        "4. market2_pred.csv, containing the other half of your predictions for Part 2\n",
        "5. Any other relevant scripts you wrote to solve the problem\n",
        "\n",
        "The required format for 2-4 will be explained below.\n",
        "\n",
        "To submit, email your zipped folder to robertwagner@doubleriver.com and taylorsorensen@doubleriver.com by the night of Saturday July 17th (any time zone). If you need an extension, please let us know. If you have any questions, please reach out to us. Good luck!"
      ],
      "id": "covered-suffering"
    },
    {
      "cell_type": "markdown",
      "metadata": {
        "id": "light-knowing"
      },
      "source": [
        "# Part 1\n",
        "\n",
        "crime_2020.csv and crime_2021.csv contain real data on crime in Boston. Predict the number of vandalism incidents and the number of verbal disputes (OFFENSE_DESCRIPTION==\"VANDALISM\" or OFFENSE_DESCRIPTION==\"VERBAL DISPUTE\") for each day from July 9, 2021 to December 31, 2021. Save your predictions to a csv named crime_pred.csv, with the following format:\n",
        "\n",
        "| Date | VANDALISM | VERBAL DISPUTE |\n",
        "| --- | --- | --- |\n",
        "| 2021-07-09 | prediction | prediction |\n",
        "| --- | --- | --- |\n",
        "\n",
        "Obviously, we can't assess your actual prediction accuracy. We will focus on your modeling decisions."
      ],
      "id": "light-knowing"
    },
    {
      "cell_type": "code",
      "metadata": {
        "colab": {
          "base_uri": "https://localhost:8080/",
          "height": 460
        },
        "id": "nP48YRBAVi8b",
        "outputId": "56cf9ff6-a4ee-4e7a-f954-45f575d124e8"
      },
      "source": [
        "import pandas as pd\n",
        "crime_2020 = pd.read_csv(\"crime_2020.csv\")\n",
        "crime_2020 = crime_2020[(crime_2020['OFFENSE_DESCRIPTION']==\"VANDALISM\") | (crime_2020['OFFENSE_DESCRIPTION']==\"VERBAL DISPUTE\")]\n",
        "crime_2020.reset_index(drop=True, inplace=True)\n",
        "# crime_2020.head()"
      ],
      "id": "nP48YRBAVi8b",
      "execution_count": 1,
      "outputs": [
        {
          "output_type": "error",
          "ename": "FileNotFoundError",
          "evalue": "ignored",
          "traceback": [
            "\u001b[0;31m---------------------------------------------------------------------------\u001b[0m",
            "\u001b[0;31mFileNotFoundError\u001b[0m                         Traceback (most recent call last)",
            "\u001b[0;32m<ipython-input-1-2ab9eb3e7e75>\u001b[0m in \u001b[0;36m<module>\u001b[0;34m()\u001b[0m\n\u001b[1;32m      1\u001b[0m \u001b[0;32mimport\u001b[0m \u001b[0mpandas\u001b[0m \u001b[0;32mas\u001b[0m \u001b[0mpd\u001b[0m\u001b[0;34m\u001b[0m\u001b[0;34m\u001b[0m\u001b[0m\n\u001b[0;32m----> 2\u001b[0;31m \u001b[0mcrime_2020\u001b[0m \u001b[0;34m=\u001b[0m \u001b[0mpd\u001b[0m\u001b[0;34m.\u001b[0m\u001b[0mread_csv\u001b[0m\u001b[0;34m(\u001b[0m\u001b[0;34m\"crime_2020.csv\"\u001b[0m\u001b[0;34m)\u001b[0m\u001b[0;34m\u001b[0m\u001b[0;34m\u001b[0m\u001b[0m\n\u001b[0m\u001b[1;32m      3\u001b[0m \u001b[0mcrime_2020\u001b[0m \u001b[0;34m=\u001b[0m \u001b[0mcrime_2020\u001b[0m\u001b[0;34m[\u001b[0m\u001b[0;34m(\u001b[0m\u001b[0mcrime_2020\u001b[0m\u001b[0;34m[\u001b[0m\u001b[0;34m'OFFENSE_DESCRIPTION'\u001b[0m\u001b[0;34m]\u001b[0m\u001b[0;34m==\u001b[0m\u001b[0;34m\"VANDALISM\"\u001b[0m\u001b[0;34m)\u001b[0m \u001b[0;34m|\u001b[0m \u001b[0;34m(\u001b[0m\u001b[0mcrime_2020\u001b[0m\u001b[0;34m[\u001b[0m\u001b[0;34m'OFFENSE_DESCRIPTION'\u001b[0m\u001b[0;34m]\u001b[0m\u001b[0;34m==\u001b[0m\u001b[0;34m\"VERBAL DISPUTE\"\u001b[0m\u001b[0;34m)\u001b[0m\u001b[0;34m]\u001b[0m\u001b[0;34m\u001b[0m\u001b[0;34m\u001b[0m\u001b[0m\n\u001b[1;32m      4\u001b[0m \u001b[0mcrime_2020\u001b[0m\u001b[0;34m.\u001b[0m\u001b[0mreset_index\u001b[0m\u001b[0;34m(\u001b[0m\u001b[0mdrop\u001b[0m\u001b[0;34m=\u001b[0m\u001b[0;32mTrue\u001b[0m\u001b[0;34m,\u001b[0m \u001b[0minplace\u001b[0m\u001b[0;34m=\u001b[0m\u001b[0;32mTrue\u001b[0m\u001b[0;34m)\u001b[0m\u001b[0;34m\u001b[0m\u001b[0;34m\u001b[0m\u001b[0m\n\u001b[1;32m      5\u001b[0m \u001b[0;31m# crime_2020.head()\u001b[0m\u001b[0;34m\u001b[0m\u001b[0;34m\u001b[0m\u001b[0;34m\u001b[0m\u001b[0m\n",
            "\u001b[0;32m/usr/local/lib/python3.7/dist-packages/pandas/io/parsers.py\u001b[0m in \u001b[0;36mread_csv\u001b[0;34m(filepath_or_buffer, sep, delimiter, header, names, index_col, usecols, squeeze, prefix, mangle_dupe_cols, dtype, engine, converters, true_values, false_values, skipinitialspace, skiprows, skipfooter, nrows, na_values, keep_default_na, na_filter, verbose, skip_blank_lines, parse_dates, infer_datetime_format, keep_date_col, date_parser, dayfirst, cache_dates, iterator, chunksize, compression, thousands, decimal, lineterminator, quotechar, quoting, doublequote, escapechar, comment, encoding, dialect, error_bad_lines, warn_bad_lines, delim_whitespace, low_memory, memory_map, float_precision)\u001b[0m\n\u001b[1;32m    686\u001b[0m     )\n\u001b[1;32m    687\u001b[0m \u001b[0;34m\u001b[0m\u001b[0m\n\u001b[0;32m--> 688\u001b[0;31m     \u001b[0;32mreturn\u001b[0m \u001b[0m_read\u001b[0m\u001b[0;34m(\u001b[0m\u001b[0mfilepath_or_buffer\u001b[0m\u001b[0;34m,\u001b[0m \u001b[0mkwds\u001b[0m\u001b[0;34m)\u001b[0m\u001b[0;34m\u001b[0m\u001b[0;34m\u001b[0m\u001b[0m\n\u001b[0m\u001b[1;32m    689\u001b[0m \u001b[0;34m\u001b[0m\u001b[0m\n\u001b[1;32m    690\u001b[0m \u001b[0;34m\u001b[0m\u001b[0m\n",
            "\u001b[0;32m/usr/local/lib/python3.7/dist-packages/pandas/io/parsers.py\u001b[0m in \u001b[0;36m_read\u001b[0;34m(filepath_or_buffer, kwds)\u001b[0m\n\u001b[1;32m    452\u001b[0m \u001b[0;34m\u001b[0m\u001b[0m\n\u001b[1;32m    453\u001b[0m     \u001b[0;31m# Create the parser.\u001b[0m\u001b[0;34m\u001b[0m\u001b[0;34m\u001b[0m\u001b[0;34m\u001b[0m\u001b[0m\n\u001b[0;32m--> 454\u001b[0;31m     \u001b[0mparser\u001b[0m \u001b[0;34m=\u001b[0m \u001b[0mTextFileReader\u001b[0m\u001b[0;34m(\u001b[0m\u001b[0mfp_or_buf\u001b[0m\u001b[0;34m,\u001b[0m \u001b[0;34m**\u001b[0m\u001b[0mkwds\u001b[0m\u001b[0;34m)\u001b[0m\u001b[0;34m\u001b[0m\u001b[0;34m\u001b[0m\u001b[0m\n\u001b[0m\u001b[1;32m    455\u001b[0m \u001b[0;34m\u001b[0m\u001b[0m\n\u001b[1;32m    456\u001b[0m     \u001b[0;32mif\u001b[0m \u001b[0mchunksize\u001b[0m \u001b[0;32mor\u001b[0m \u001b[0miterator\u001b[0m\u001b[0;34m:\u001b[0m\u001b[0;34m\u001b[0m\u001b[0;34m\u001b[0m\u001b[0m\n",
            "\u001b[0;32m/usr/local/lib/python3.7/dist-packages/pandas/io/parsers.py\u001b[0m in \u001b[0;36m__init__\u001b[0;34m(self, f, engine, **kwds)\u001b[0m\n\u001b[1;32m    946\u001b[0m             \u001b[0mself\u001b[0m\u001b[0;34m.\u001b[0m\u001b[0moptions\u001b[0m\u001b[0;34m[\u001b[0m\u001b[0;34m\"has_index_names\"\u001b[0m\u001b[0;34m]\u001b[0m \u001b[0;34m=\u001b[0m \u001b[0mkwds\u001b[0m\u001b[0;34m[\u001b[0m\u001b[0;34m\"has_index_names\"\u001b[0m\u001b[0;34m]\u001b[0m\u001b[0;34m\u001b[0m\u001b[0;34m\u001b[0m\u001b[0m\n\u001b[1;32m    947\u001b[0m \u001b[0;34m\u001b[0m\u001b[0m\n\u001b[0;32m--> 948\u001b[0;31m         \u001b[0mself\u001b[0m\u001b[0;34m.\u001b[0m\u001b[0m_make_engine\u001b[0m\u001b[0;34m(\u001b[0m\u001b[0mself\u001b[0m\u001b[0;34m.\u001b[0m\u001b[0mengine\u001b[0m\u001b[0;34m)\u001b[0m\u001b[0;34m\u001b[0m\u001b[0;34m\u001b[0m\u001b[0m\n\u001b[0m\u001b[1;32m    949\u001b[0m \u001b[0;34m\u001b[0m\u001b[0m\n\u001b[1;32m    950\u001b[0m     \u001b[0;32mdef\u001b[0m \u001b[0mclose\u001b[0m\u001b[0;34m(\u001b[0m\u001b[0mself\u001b[0m\u001b[0;34m)\u001b[0m\u001b[0;34m:\u001b[0m\u001b[0;34m\u001b[0m\u001b[0;34m\u001b[0m\u001b[0m\n",
            "\u001b[0;32m/usr/local/lib/python3.7/dist-packages/pandas/io/parsers.py\u001b[0m in \u001b[0;36m_make_engine\u001b[0;34m(self, engine)\u001b[0m\n\u001b[1;32m   1178\u001b[0m     \u001b[0;32mdef\u001b[0m \u001b[0m_make_engine\u001b[0m\u001b[0;34m(\u001b[0m\u001b[0mself\u001b[0m\u001b[0;34m,\u001b[0m \u001b[0mengine\u001b[0m\u001b[0;34m=\u001b[0m\u001b[0;34m\"c\"\u001b[0m\u001b[0;34m)\u001b[0m\u001b[0;34m:\u001b[0m\u001b[0;34m\u001b[0m\u001b[0;34m\u001b[0m\u001b[0m\n\u001b[1;32m   1179\u001b[0m         \u001b[0;32mif\u001b[0m \u001b[0mengine\u001b[0m \u001b[0;34m==\u001b[0m \u001b[0;34m\"c\"\u001b[0m\u001b[0;34m:\u001b[0m\u001b[0;34m\u001b[0m\u001b[0;34m\u001b[0m\u001b[0m\n\u001b[0;32m-> 1180\u001b[0;31m             \u001b[0mself\u001b[0m\u001b[0;34m.\u001b[0m\u001b[0m_engine\u001b[0m \u001b[0;34m=\u001b[0m \u001b[0mCParserWrapper\u001b[0m\u001b[0;34m(\u001b[0m\u001b[0mself\u001b[0m\u001b[0;34m.\u001b[0m\u001b[0mf\u001b[0m\u001b[0;34m,\u001b[0m \u001b[0;34m**\u001b[0m\u001b[0mself\u001b[0m\u001b[0;34m.\u001b[0m\u001b[0moptions\u001b[0m\u001b[0;34m)\u001b[0m\u001b[0;34m\u001b[0m\u001b[0;34m\u001b[0m\u001b[0m\n\u001b[0m\u001b[1;32m   1181\u001b[0m         \u001b[0;32melse\u001b[0m\u001b[0;34m:\u001b[0m\u001b[0;34m\u001b[0m\u001b[0;34m\u001b[0m\u001b[0m\n\u001b[1;32m   1182\u001b[0m             \u001b[0;32mif\u001b[0m \u001b[0mengine\u001b[0m \u001b[0;34m==\u001b[0m \u001b[0;34m\"python\"\u001b[0m\u001b[0;34m:\u001b[0m\u001b[0;34m\u001b[0m\u001b[0;34m\u001b[0m\u001b[0m\n",
            "\u001b[0;32m/usr/local/lib/python3.7/dist-packages/pandas/io/parsers.py\u001b[0m in \u001b[0;36m__init__\u001b[0;34m(self, src, **kwds)\u001b[0m\n\u001b[1;32m   2008\u001b[0m         \u001b[0mkwds\u001b[0m\u001b[0;34m[\u001b[0m\u001b[0;34m\"usecols\"\u001b[0m\u001b[0;34m]\u001b[0m \u001b[0;34m=\u001b[0m \u001b[0mself\u001b[0m\u001b[0;34m.\u001b[0m\u001b[0musecols\u001b[0m\u001b[0;34m\u001b[0m\u001b[0;34m\u001b[0m\u001b[0m\n\u001b[1;32m   2009\u001b[0m \u001b[0;34m\u001b[0m\u001b[0m\n\u001b[0;32m-> 2010\u001b[0;31m         \u001b[0mself\u001b[0m\u001b[0;34m.\u001b[0m\u001b[0m_reader\u001b[0m \u001b[0;34m=\u001b[0m \u001b[0mparsers\u001b[0m\u001b[0;34m.\u001b[0m\u001b[0mTextReader\u001b[0m\u001b[0;34m(\u001b[0m\u001b[0msrc\u001b[0m\u001b[0;34m,\u001b[0m \u001b[0;34m**\u001b[0m\u001b[0mkwds\u001b[0m\u001b[0;34m)\u001b[0m\u001b[0;34m\u001b[0m\u001b[0;34m\u001b[0m\u001b[0m\n\u001b[0m\u001b[1;32m   2011\u001b[0m         \u001b[0mself\u001b[0m\u001b[0;34m.\u001b[0m\u001b[0munnamed_cols\u001b[0m \u001b[0;34m=\u001b[0m \u001b[0mself\u001b[0m\u001b[0;34m.\u001b[0m\u001b[0m_reader\u001b[0m\u001b[0;34m.\u001b[0m\u001b[0munnamed_cols\u001b[0m\u001b[0;34m\u001b[0m\u001b[0;34m\u001b[0m\u001b[0m\n\u001b[1;32m   2012\u001b[0m \u001b[0;34m\u001b[0m\u001b[0m\n",
            "\u001b[0;32mpandas/_libs/parsers.pyx\u001b[0m in \u001b[0;36mpandas._libs.parsers.TextReader.__cinit__\u001b[0;34m()\u001b[0m\n",
            "\u001b[0;32mpandas/_libs/parsers.pyx\u001b[0m in \u001b[0;36mpandas._libs.parsers.TextReader._setup_parser_source\u001b[0;34m()\u001b[0m\n",
            "\u001b[0;31mFileNotFoundError\u001b[0m: [Errno 2] No such file or directory: 'crime_2020.csv'"
          ]
        }
      ]
    },
    {
      "cell_type": "code",
      "metadata": {
        "id": "EwfXakRbV0lK"
      },
      "source": [
        "crime_2020_u= crime_2020[[\"OFFENSE_DESCRIPTION\",\"OCCURRED_ON_DATE\"]]\n",
        "# crime_2020_u.info()"
      ],
      "id": "EwfXakRbV0lK",
      "execution_count": 105,
      "outputs": []
    },
    {
      "cell_type": "code",
      "metadata": {
        "colab": {
          "base_uri": "https://localhost:8080/"
        },
        "id": "VK5ECpYaHsFG",
        "outputId": "041d8981-0194-488c-fcaf-e7a161225996"
      },
      "source": [
        "from datetime import datetime\n",
        "crime_2020_u[\"OCCURRED_ON_DATE\"]=pd.to_datetime(crime_2020_u[\"OCCURRED_ON_DATE\"]).dt.date\n",
        "# crime_2020_u.info()"
      ],
      "id": "VK5ECpYaHsFG",
      "execution_count": 106,
      "outputs": [
        {
          "output_type": "stream",
          "text": [
            "/usr/local/lib/python3.7/dist-packages/ipykernel_launcher.py:2: SettingWithCopyWarning: \n",
            "A value is trying to be set on a copy of a slice from a DataFrame.\n",
            "Try using .loc[row_indexer,col_indexer] = value instead\n",
            "\n",
            "See the caveats in the documentation: https://pandas.pydata.org/pandas-docs/stable/user_guide/indexing.html#returning-a-view-versus-a-copy\n",
            "  \n"
          ],
          "name": "stderr"
        }
      ]
    },
    {
      "cell_type": "code",
      "metadata": {
        "id": "5udAM8JARAdX"
      },
      "source": [
        "# crime_2020_u"
      ],
      "id": "5udAM8JARAdX",
      "execution_count": 107,
      "outputs": []
    },
    {
      "cell_type": "code",
      "metadata": {
        "colab": {
          "base_uri": "https://localhost:8080/"
        },
        "id": "kEZjifH5R6at",
        "outputId": "54170609-21b9-4e92-f6ea-7d4ea61fe16a"
      },
      "source": [
        "crime_2021 = pd.read_csv(\"crime_2021.csv\")\n",
        "crime_2021 = crime_2021[(crime_2021['OFFENSE_DESCRIPTION']==\"VANDALISM\") | (crime_2021['OFFENSE_DESCRIPTION']==\"VERBAL DISPUTE\")]\n",
        "crime_2021.reset_index(drop=True, inplace=True)\n",
        "# crime_2021.head()"
      ],
      "id": "kEZjifH5R6at",
      "execution_count": 108,
      "outputs": [
        {
          "output_type": "stream",
          "text": [
            "/usr/local/lib/python3.7/dist-packages/IPython/core/interactiveshell.py:2718: DtypeWarning: Columns (0) have mixed types.Specify dtype option on import or set low_memory=False.\n",
            "  interactivity=interactivity, compiler=compiler, result=result)\n"
          ],
          "name": "stderr"
        }
      ]
    },
    {
      "cell_type": "code",
      "metadata": {
        "id": "bridal-contribution"
      },
      "source": [
        "crime_2021_u= crime_2021[[\"OFFENSE_DESCRIPTION\",\"OCCURRED_ON_DATE\"]]\n",
        "# crime_2021_u.info()"
      ],
      "id": "bridal-contribution",
      "execution_count": 109,
      "outputs": []
    },
    {
      "cell_type": "code",
      "metadata": {
        "colab": {
          "base_uri": "https://localhost:8080/"
        },
        "id": "dBgLGUF-7MHR",
        "outputId": "1d773224-ad62-478c-f744-100ad6fdf6dc"
      },
      "source": [
        "crime_2021_u[\"OCCURRED_ON_DATE\"]=pd.to_datetime(crime_2021_u[\"OCCURRED_ON_DATE\"]).dt.date\n",
        "# crime_2021_u.info()"
      ],
      "id": "dBgLGUF-7MHR",
      "execution_count": 110,
      "outputs": [
        {
          "output_type": "stream",
          "text": [
            "/usr/local/lib/python3.7/dist-packages/ipykernel_launcher.py:1: SettingWithCopyWarning: \n",
            "A value is trying to be set on a copy of a slice from a DataFrame.\n",
            "Try using .loc[row_indexer,col_indexer] = value instead\n",
            "\n",
            "See the caveats in the documentation: https://pandas.pydata.org/pandas-docs/stable/user_guide/indexing.html#returning-a-view-versus-a-copy\n",
            "  \"\"\"Entry point for launching an IPython kernel.\n"
          ],
          "name": "stderr"
        }
      ]
    },
    {
      "cell_type": "code",
      "metadata": {
        "id": "bVMlOU-sSLFf"
      },
      "source": [
        "# crime_2021_u"
      ],
      "id": "bVMlOU-sSLFf",
      "execution_count": 111,
      "outputs": []
    },
    {
      "cell_type": "code",
      "metadata": {
        "id": "LsxGFsYiXhtZ"
      },
      "source": [
        "full_data = pd.concat([crime_2020_u, crime_2021_u])\n",
        "# full_data.info()"
      ],
      "id": "LsxGFsYiXhtZ",
      "execution_count": 112,
      "outputs": []
    },
    {
      "cell_type": "code",
      "metadata": {
        "id": "6ja_sWJIZo0M"
      },
      "source": [
        "# full_data"
      ],
      "id": "6ja_sWJIZo0M",
      "execution_count": 113,
      "outputs": []
    },
    {
      "cell_type": "code",
      "metadata": {
        "id": "pU9CFCSjSkOa"
      },
      "source": [
        "full_data_VANDALISM = full_data[(full_data['OFFENSE_DESCRIPTION']==\"VANDALISM\")]\n",
        "full_data_VERBAL_DISPUTE = full_data[(full_data['OFFENSE_DESCRIPTION']==\"VERBAL DISPUTE\")]"
      ],
      "id": "pU9CFCSjSkOa",
      "execution_count": 114,
      "outputs": []
    },
    {
      "cell_type": "code",
      "metadata": {
        "id": "k8MgvRZSD5r0"
      },
      "source": [
        "VANDALISM_count=full_data_VANDALISM['OCCURRED_ON_DATE'].value_counts()\n",
        "VANDALISM_counts= pd.DataFrame(VANDALISM_count).reset_index()\n",
        "VANDALISM_counts.columns = ['Date', 'Counts']\n",
        "\n",
        "VERBAL_DISPUTE_count=full_data_VERBAL_DISPUTE['OCCURRED_ON_DATE'].value_counts()\n",
        "VERBAL_DISPUTE_counts= pd.DataFrame(VERBAL_DISPUTE_count).reset_index()\n",
        "VERBAL_DISPUTE_counts.columns = ['Date', 'Counts']"
      ],
      "id": "k8MgvRZSD5r0",
      "execution_count": 115,
      "outputs": []
    },
    {
      "cell_type": "code",
      "metadata": {
        "id": "_Mf5A_01dOEg"
      },
      "source": [
        "indexed_VANDALISM_counts=VANDALISM_counts.set_index(['Date'])\n",
        "indexed_VERBAL_DISPUTE_counts=VERBAL_DISPUTE_counts.set_index(['Date'])"
      ],
      "id": "_Mf5A_01dOEg",
      "execution_count": 116,
      "outputs": []
    },
    {
      "cell_type": "code",
      "metadata": {
        "id": "vMatXE2EEMUg",
        "outputId": "8f82817b-f7b2-4d2a-d502-f797612657fc",
        "colab": {
          "base_uri": "https://localhost:8080/",
          "height": 235
        }
      },
      "source": [
        "#indexed_VANDALISM_counts\n",
        "indexed_VERBAL_DISPUTE_counts.head(5)"
      ],
      "id": "vMatXE2EEMUg",
      "execution_count": 118,
      "outputs": [
        {
          "output_type": "execute_result",
          "data": {
            "text/html": [
              "<div>\n",
              "<style scoped>\n",
              "    .dataframe tbody tr th:only-of-type {\n",
              "        vertical-align: middle;\n",
              "    }\n",
              "\n",
              "    .dataframe tbody tr th {\n",
              "        vertical-align: top;\n",
              "    }\n",
              "\n",
              "    .dataframe thead th {\n",
              "        text-align: right;\n",
              "    }\n",
              "</style>\n",
              "<table border=\"1\" class=\"dataframe\">\n",
              "  <thead>\n",
              "    <tr style=\"text-align: right;\">\n",
              "      <th></th>\n",
              "      <th>Counts</th>\n",
              "    </tr>\n",
              "    <tr>\n",
              "      <th>Date</th>\n",
              "      <th></th>\n",
              "    </tr>\n",
              "  </thead>\n",
              "  <tbody>\n",
              "    <tr>\n",
              "      <th>2020-07-31</th>\n",
              "      <td>13</td>\n",
              "    </tr>\n",
              "    <tr>\n",
              "      <th>2021-06-20</th>\n",
              "      <td>12</td>\n",
              "    </tr>\n",
              "    <tr>\n",
              "      <th>2020-08-10</th>\n",
              "      <td>11</td>\n",
              "    </tr>\n",
              "    <tr>\n",
              "      <th>2021-05-20</th>\n",
              "      <td>11</td>\n",
              "    </tr>\n",
              "    <tr>\n",
              "      <th>2020-06-27</th>\n",
              "      <td>11</td>\n",
              "    </tr>\n",
              "  </tbody>\n",
              "</table>\n",
              "</div>"
            ],
            "text/plain": [
              "            Counts\n",
              "Date              \n",
              "2020-07-31      13\n",
              "2021-06-20      12\n",
              "2020-08-10      11\n",
              "2021-05-20      11\n",
              "2020-06-27      11"
            ]
          },
          "metadata": {
            "tags": []
          },
          "execution_count": 118
        }
      ]
    },
    {
      "cell_type": "code",
      "metadata": {
        "id": "R3Rx_joTENqg",
        "outputId": "0f9fbac6-fd4b-47bc-c3cd-230ac1cf80eb",
        "colab": {
          "base_uri": "https://localhost:8080/",
          "height": 419
        }
      },
      "source": [
        ""
      ],
      "id": "R3Rx_joTENqg",
      "execution_count": 69,
      "outputs": [
        {
          "output_type": "execute_result",
          "data": {
            "text/html": [
              "<div>\n",
              "<style scoped>\n",
              "    .dataframe tbody tr th:only-of-type {\n",
              "        vertical-align: middle;\n",
              "    }\n",
              "\n",
              "    .dataframe tbody tr th {\n",
              "        vertical-align: top;\n",
              "    }\n",
              "\n",
              "    .dataframe thead th {\n",
              "        text-align: right;\n",
              "    }\n",
              "</style>\n",
              "<table border=\"1\" class=\"dataframe\">\n",
              "  <thead>\n",
              "    <tr style=\"text-align: right;\">\n",
              "      <th></th>\n",
              "      <th>Date</th>\n",
              "      <th>Counts</th>\n",
              "    </tr>\n",
              "  </thead>\n",
              "  <tbody>\n",
              "    <tr>\n",
              "      <th>0</th>\n",
              "      <td>2020-07-31</td>\n",
              "      <td>13</td>\n",
              "    </tr>\n",
              "    <tr>\n",
              "      <th>1</th>\n",
              "      <td>2021-06-20</td>\n",
              "      <td>12</td>\n",
              "    </tr>\n",
              "    <tr>\n",
              "      <th>2</th>\n",
              "      <td>2020-08-10</td>\n",
              "      <td>11</td>\n",
              "    </tr>\n",
              "    <tr>\n",
              "      <th>3</th>\n",
              "      <td>2021-05-20</td>\n",
              "      <td>11</td>\n",
              "    </tr>\n",
              "    <tr>\n",
              "      <th>4</th>\n",
              "      <td>2020-06-27</td>\n",
              "      <td>11</td>\n",
              "    </tr>\n",
              "    <tr>\n",
              "      <th>...</th>\n",
              "      <td>...</td>\n",
              "      <td>...</td>\n",
              "    </tr>\n",
              "    <tr>\n",
              "      <th>532</th>\n",
              "      <td>2020-01-23</td>\n",
              "      <td>1</td>\n",
              "    </tr>\n",
              "    <tr>\n",
              "      <th>533</th>\n",
              "      <td>2020-05-06</td>\n",
              "      <td>1</td>\n",
              "    </tr>\n",
              "    <tr>\n",
              "      <th>534</th>\n",
              "      <td>2021-06-21</td>\n",
              "      <td>1</td>\n",
              "    </tr>\n",
              "    <tr>\n",
              "      <th>535</th>\n",
              "      <td>2020-05-27</td>\n",
              "      <td>1</td>\n",
              "    </tr>\n",
              "    <tr>\n",
              "      <th>536</th>\n",
              "      <td>2020-12-14</td>\n",
              "      <td>1</td>\n",
              "    </tr>\n",
              "  </tbody>\n",
              "</table>\n",
              "<p>537 rows × 2 columns</p>\n",
              "</div>"
            ],
            "text/plain": [
              "           Date  Counts\n",
              "0    2020-07-31      13\n",
              "1    2021-06-20      12\n",
              "2    2020-08-10      11\n",
              "3    2021-05-20      11\n",
              "4    2020-06-27      11\n",
              "..          ...     ...\n",
              "532  2020-01-23       1\n",
              "533  2020-05-06       1\n",
              "534  2021-06-21       1\n",
              "535  2020-05-27       1\n",
              "536  2020-12-14       1\n",
              "\n",
              "[537 rows x 2 columns]"
            ]
          },
          "metadata": {
            "tags": []
          },
          "execution_count": 69
        }
      ]
    },
    {
      "cell_type": "code",
      "metadata": {
        "id": "UdA35FyBR-Vo",
        "outputId": "563cd4c0-10fd-4bb7-8798-877d7e0fe44b",
        "colab": {
          "base_uri": "https://localhost:8080/"
        }
      },
      "source": [
        ""
      ],
      "id": "UdA35FyBR-Vo",
      "execution_count": 52,
      "outputs": [
        {
          "output_type": "execute_result",
          "data": {
            "text/plain": [
              "Index(['x'], dtype='object')"
            ]
          },
          "metadata": {
            "tags": []
          },
          "execution_count": 52
        }
      ]
    },
    {
      "cell_type": "markdown",
      "metadata": {
        "id": "daily-finnish"
      },
      "source": [
        "# Part 2\n",
        "\n",
        "market1_train.csv contains time series observations for 100 different entities ID0, ID1, ..., ID99. market2_train.csv is similar. You will find that there is some correlation across entities within a market and that the two markets are independent of each other.\n",
        "\n",
        "For each entity in each market, predict the value of the time series for the next 20 time periods (2021-07-10 through 2021-07-29). Save your predictions for the first dataset in a csv file named market1_pred.csv with the same format as market1_train.csv (and similarly for predictions on the second dataset).\n",
        "\n",
        "When assessing your submission, we will note the accuracy of your predictions, but mostly we will focus on whether you made an effort to validate your model's performance using a hold-out test set. Be sure to pursue a validation strategy that respects the time series nature of the data."
      ],
      "id": "daily-finnish"
    },
    {
      "cell_type": "code",
      "metadata": {
        "id": "japanese-shipping",
        "outputId": "6329172b-9fef-4b6d-a629-b9486d857525"
      },
      "source": [
        "import pandas as pd\n",
        "\n",
        "market1 = pd.read_csv('./market1_train.csv', index_col=0)\n",
        "market1.tail()"
      ],
      "id": "japanese-shipping",
      "execution_count": null,
      "outputs": [
        {
          "output_type": "execute_result",
          "data": {
            "text/html": [
              "<div>\n",
              "<style scoped>\n",
              "    .dataframe tbody tr th:only-of-type {\n",
              "        vertical-align: middle;\n",
              "    }\n",
              "\n",
              "    .dataframe tbody tr th {\n",
              "        vertical-align: top;\n",
              "    }\n",
              "\n",
              "    .dataframe thead th {\n",
              "        text-align: right;\n",
              "    }\n",
              "</style>\n",
              "<table border=\"1\" class=\"dataframe\">\n",
              "  <thead>\n",
              "    <tr style=\"text-align: right;\">\n",
              "      <th></th>\n",
              "      <th>ID0</th>\n",
              "      <th>ID1</th>\n",
              "      <th>ID2</th>\n",
              "      <th>ID3</th>\n",
              "      <th>ID4</th>\n",
              "      <th>ID5</th>\n",
              "      <th>ID6</th>\n",
              "      <th>ID7</th>\n",
              "      <th>ID8</th>\n",
              "      <th>ID9</th>\n",
              "      <th>...</th>\n",
              "      <th>ID90</th>\n",
              "      <th>ID91</th>\n",
              "      <th>ID92</th>\n",
              "      <th>ID93</th>\n",
              "      <th>ID94</th>\n",
              "      <th>ID95</th>\n",
              "      <th>ID96</th>\n",
              "      <th>ID97</th>\n",
              "      <th>ID98</th>\n",
              "      <th>ID99</th>\n",
              "    </tr>\n",
              "  </thead>\n",
              "  <tbody>\n",
              "    <tr>\n",
              "      <th>2021-07-05</th>\n",
              "      <td>3.583375</td>\n",
              "      <td>3.226964</td>\n",
              "      <td>2.346920</td>\n",
              "      <td>2.558637</td>\n",
              "      <td>1.538760</td>\n",
              "      <td>4.594758</td>\n",
              "      <td>2.146608</td>\n",
              "      <td>-0.386454</td>\n",
              "      <td>5.025999</td>\n",
              "      <td>1.725205</td>\n",
              "      <td>...</td>\n",
              "      <td>3.297692</td>\n",
              "      <td>2.530733</td>\n",
              "      <td>1.443641</td>\n",
              "      <td>4.868712</td>\n",
              "      <td>3.445038</td>\n",
              "      <td>1.935061</td>\n",
              "      <td>0.067948</td>\n",
              "      <td>1.430985</td>\n",
              "      <td>3.682066</td>\n",
              "      <td>0.823618</td>\n",
              "    </tr>\n",
              "    <tr>\n",
              "      <th>2021-07-06</th>\n",
              "      <td>3.517965</td>\n",
              "      <td>3.204598</td>\n",
              "      <td>2.314079</td>\n",
              "      <td>2.632919</td>\n",
              "      <td>1.536916</td>\n",
              "      <td>4.571775</td>\n",
              "      <td>2.141673</td>\n",
              "      <td>-0.399738</td>\n",
              "      <td>5.018209</td>\n",
              "      <td>1.698755</td>\n",
              "      <td>...</td>\n",
              "      <td>3.342837</td>\n",
              "      <td>2.570519</td>\n",
              "      <td>1.493459</td>\n",
              "      <td>4.806316</td>\n",
              "      <td>3.450563</td>\n",
              "      <td>1.944582</td>\n",
              "      <td>-0.008034</td>\n",
              "      <td>1.443509</td>\n",
              "      <td>3.673936</td>\n",
              "      <td>0.804096</td>\n",
              "    </tr>\n",
              "    <tr>\n",
              "      <th>2021-07-07</th>\n",
              "      <td>3.424292</td>\n",
              "      <td>3.158055</td>\n",
              "      <td>2.323530</td>\n",
              "      <td>2.712472</td>\n",
              "      <td>1.518457</td>\n",
              "      <td>4.564601</td>\n",
              "      <td>2.174367</td>\n",
              "      <td>-0.457701</td>\n",
              "      <td>5.016744</td>\n",
              "      <td>1.687332</td>\n",
              "      <td>...</td>\n",
              "      <td>3.379711</td>\n",
              "      <td>2.629063</td>\n",
              "      <td>1.500382</td>\n",
              "      <td>4.703795</td>\n",
              "      <td>3.465800</td>\n",
              "      <td>1.951739</td>\n",
              "      <td>-0.034730</td>\n",
              "      <td>1.416805</td>\n",
              "      <td>3.708597</td>\n",
              "      <td>0.828704</td>\n",
              "    </tr>\n",
              "    <tr>\n",
              "      <th>2021-07-08</th>\n",
              "      <td>3.324116</td>\n",
              "      <td>3.132059</td>\n",
              "      <td>2.357117</td>\n",
              "      <td>2.717007</td>\n",
              "      <td>1.528890</td>\n",
              "      <td>4.605934</td>\n",
              "      <td>2.233432</td>\n",
              "      <td>-0.539993</td>\n",
              "      <td>4.998563</td>\n",
              "      <td>1.730982</td>\n",
              "      <td>...</td>\n",
              "      <td>3.422676</td>\n",
              "      <td>2.690800</td>\n",
              "      <td>1.523709</td>\n",
              "      <td>4.635425</td>\n",
              "      <td>3.529254</td>\n",
              "      <td>1.946570</td>\n",
              "      <td>-0.040312</td>\n",
              "      <td>1.407013</td>\n",
              "      <td>3.733810</td>\n",
              "      <td>0.825763</td>\n",
              "    </tr>\n",
              "    <tr>\n",
              "      <th>2021-07-09</th>\n",
              "      <td>3.280630</td>\n",
              "      <td>3.125787</td>\n",
              "      <td>2.358661</td>\n",
              "      <td>2.714038</td>\n",
              "      <td>1.534618</td>\n",
              "      <td>4.644007</td>\n",
              "      <td>2.255994</td>\n",
              "      <td>-0.570467</td>\n",
              "      <td>4.947899</td>\n",
              "      <td>1.801011</td>\n",
              "      <td>...</td>\n",
              "      <td>3.486283</td>\n",
              "      <td>2.700701</td>\n",
              "      <td>1.530790</td>\n",
              "      <td>4.637559</td>\n",
              "      <td>3.600928</td>\n",
              "      <td>1.973549</td>\n",
              "      <td>-0.028652</td>\n",
              "      <td>1.409580</td>\n",
              "      <td>3.713170</td>\n",
              "      <td>0.797180</td>\n",
              "    </tr>\n",
              "  </tbody>\n",
              "</table>\n",
              "<p>5 rows × 100 columns</p>\n",
              "</div>"
            ],
            "text/plain": [
              "                 ID0       ID1       ID2       ID3       ID4       ID5  \\\n",
              "2021-07-05  3.583375  3.226964  2.346920  2.558637  1.538760  4.594758   \n",
              "2021-07-06  3.517965  3.204598  2.314079  2.632919  1.536916  4.571775   \n",
              "2021-07-07  3.424292  3.158055  2.323530  2.712472  1.518457  4.564601   \n",
              "2021-07-08  3.324116  3.132059  2.357117  2.717007  1.528890  4.605934   \n",
              "2021-07-09  3.280630  3.125787  2.358661  2.714038  1.534618  4.644007   \n",
              "\n",
              "                 ID6       ID7       ID8       ID9  ...      ID90      ID91  \\\n",
              "2021-07-05  2.146608 -0.386454  5.025999  1.725205  ...  3.297692  2.530733   \n",
              "2021-07-06  2.141673 -0.399738  5.018209  1.698755  ...  3.342837  2.570519   \n",
              "2021-07-07  2.174367 -0.457701  5.016744  1.687332  ...  3.379711  2.629063   \n",
              "2021-07-08  2.233432 -0.539993  4.998563  1.730982  ...  3.422676  2.690800   \n",
              "2021-07-09  2.255994 -0.570467  4.947899  1.801011  ...  3.486283  2.700701   \n",
              "\n",
              "                ID92      ID93      ID94      ID95      ID96      ID97  \\\n",
              "2021-07-05  1.443641  4.868712  3.445038  1.935061  0.067948  1.430985   \n",
              "2021-07-06  1.493459  4.806316  3.450563  1.944582 -0.008034  1.443509   \n",
              "2021-07-07  1.500382  4.703795  3.465800  1.951739 -0.034730  1.416805   \n",
              "2021-07-08  1.523709  4.635425  3.529254  1.946570 -0.040312  1.407013   \n",
              "2021-07-09  1.530790  4.637559  3.600928  1.973549 -0.028652  1.409580   \n",
              "\n",
              "                ID98      ID99  \n",
              "2021-07-05  3.682066  0.823618  \n",
              "2021-07-06  3.673936  0.804096  \n",
              "2021-07-07  3.708597  0.828704  \n",
              "2021-07-08  3.733810  0.825763  \n",
              "2021-07-09  3.713170  0.797180  \n",
              "\n",
              "[5 rows x 100 columns]"
            ]
          },
          "metadata": {
            "tags": []
          },
          "execution_count": 2
        }
      ]
    }
  ]
}